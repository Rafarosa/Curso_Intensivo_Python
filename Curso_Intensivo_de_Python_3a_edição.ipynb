{
  "nbformat": 4,
  "nbformat_minor": 0,
  "metadata": {
    "colab": {
      "provenance": [],
      "toc_visible": true,
      "authorship_tag": "ABX9TyOEmCWcydyM+nsv6HVHUTXm",
      "include_colab_link": true
    },
    "kernelspec": {
      "name": "python3",
      "display_name": "Python 3"
    },
    "language_info": {
      "name": "python"
    }
  },
  "cells": [
    {
      "cell_type": "markdown",
      "metadata": {
        "id": "view-in-github",
        "colab_type": "text"
      },
      "source": [
        "<a href=\"https://colab.research.google.com/github/Rafarosa/Curso_Intensivo_Python/blob/main/Curso_Intensivo_de_Python_3a_edi%C3%A7%C3%A3o.ipynb\" target=\"_parent\"><img src=\"https://colab.research.google.com/assets/colab-badge.svg\" alt=\"Open In Colab\"/></a>"
      ]
    },
    {
      "cell_type": "code",
      "execution_count": null,
      "metadata": {
        "id": "YIOKMLb5SjSo"
      },
      "outputs": [],
      "source": []
    },
    {
      "cell_type": "markdown",
      "source": [
        "\n",
        "\n",
        "```\n",
        "# Isto está formatado como código\n",
        "```\n",
        "\n",
        "# Capítulo 2 - Variaveis e tipos da dados simples"
      ],
      "metadata": {
        "id": "s2XhJxvCSk2f"
      }
    },
    {
      "cell_type": "markdown",
      "source": [
        "# Capítulo 3 - introdução a listas\n",
        "##### Neste capítulo e no próximo aprenderemos o que são listas e como começar a trabalhar com os elementos de uma lista . As listas possibilitam armazenar conjuntos de informações em um só lugar , mesmo se tivermos apenas alguns ou milhões de itens . As listas são um dos recursos mais poderosos do Python , de fácil acesso a novos programadores e relacionam muitos conceitos importantes da programação ."
      ],
      "metadata": {
        "id": "fK8lcW_6Sp1H"
      }
    },
    {
      "cell_type": "markdown",
      "source": [
        "Uma lista é uma coleção de itens em uma ordem específica ."
      ],
      "metadata": {
        "id": "hXLL91sDTWqX"
      }
    },
    {
      "cell_type": "code",
      "source": [
        "bicycles = ['trek','cannondale','redline','specialized']\n",
        "print(bicycles)"
      ],
      "metadata": {
        "colab": {
          "base_uri": "https://localhost:8080/"
        },
        "id": "XPROEvoyTenJ",
        "outputId": "cf47ae28-ff00-4bf4-f1d0-2167cc19e098"
      },
      "execution_count": 2,
      "outputs": [
        {
          "output_type": "stream",
          "name": "stdout",
          "text": [
            "['trek', 'cannondale', 'redline', 'specialized']\n"
          ]
        }
      ]
    },
    {
      "cell_type": "markdown",
      "source": [
        "### Acessando elemento em uma lista"
      ],
      "metadata": {
        "id": "kO0v7tq8VQkx"
      }
    },
    {
      "cell_type": "code",
      "source": [
        "print(bicycles[0])"
      ],
      "metadata": {
        "colab": {
          "base_uri": "https://localhost:8080/"
        },
        "id": "1yskk_EbVgKx",
        "outputId": "d16ab73a-fce1-425a-a023-c6e1992d1405"
      },
      "execution_count": 3,
      "outputs": [
        {
          "output_type": "stream",
          "name": "stdout",
          "text": [
            "trek\n"
          ]
        }
      ]
    },
    {
      "cell_type": "markdown",
      "source": [
        "Podemos também utilizar os métodos string do Capítulo 2 em qualquer elemento desta lista. Por exemplo, podemos formatar o elemento 'trek' para parecer mais apresentável usando o método title():"
      ],
      "metadata": {
        "id": "C_FjK9RUVzHs"
      }
    },
    {
      "cell_type": "code",
      "source": [
        "print(bicycles[0].title())"
      ],
      "metadata": {
        "colab": {
          "base_uri": "https://localhost:8080/"
        },
        "id": "u_ozkO4sV7Ww",
        "outputId": "130b6579-ab00-4736-8cdf-5eb8d0c02fab"
      },
      "execution_count": 4,
      "outputs": [
        {
          "output_type": "stream",
          "name": "stdout",
          "text": [
            "Trek\n"
          ]
        }
      ]
    },
    {
      "cell_type": "markdown",
      "source": [
        "### As posições do índice começam em 0, não em 1"
      ],
      "metadata": {
        "id": "e3H7UGmiWQGK"
      }
    },
    {
      "cell_type": "markdown",
      "source": [
        "O Python considera que o primeiro item de uma lista está na posição 0, não na posição 1. Isso se aplica à maioria das linguagens de programação , devido ao fato de como as operações de lista são implementadas em um nível mais baixo . Se estiver recebendo resultados inesperados , pergunte a si mesmo se está cometendo um simples erro off - by - one ( erro de lógica ) ."
      ],
      "metadata": {
        "id": "-lLpB_47WV6j"
      }
    },
    {
      "cell_type": "code",
      "source": [
        "# O código a seguir consulta as bicicletas nos índices 1 e 3 :\n",
        "print(bicycles[1])\n",
        "print(bicycles[3])"
      ],
      "metadata": {
        "colab": {
          "base_uri": "https://localhost:8080/"
        },
        "id": "mDKiWSNZWs8a",
        "outputId": "2ded8d3c-1847-47b8-c658-9fb68a46311b"
      },
      "execution_count": 5,
      "outputs": [
        {
          "output_type": "stream",
          "name": "stdout",
          "text": [
            "cannondale\n",
            "specialized\n"
          ]
        }
      ]
    },
    {
      "cell_type": "markdown",
      "source": [
        "O Python tem uma sintaxe singular para acessar o último elemento de uma lista . Se pedirmos o elemento no índice -1 , sempre retorna o último elemento da lista.\n",
        "\n",
        "*OBS: O índice -2 retorna o segundo elemento do final da lista , o índice -3 retorna o terceiro elemento do final , e assim por diante*"
      ],
      "metadata": {
        "id": "Lu79tvI0XFnW"
      }
    },
    {
      "cell_type": "code",
      "source": [
        "print(bicycles[-1])"
      ],
      "metadata": {
        "colab": {
          "base_uri": "https://localhost:8080/"
        },
        "id": "RTO3LLbXXIb1",
        "outputId": "13bf0cd6-ef2d-4dcc-9c08-5dfa6b18f52f"
      },
      "execution_count": 6,
      "outputs": [
        {
          "output_type": "stream",
          "name": "stdout",
          "text": [
            "specialized\n"
          ]
        }
      ]
    },
    {
      "cell_type": "markdown",
      "source": [
        "### Usando valores individuais de uma lista"
      ],
      "metadata": {
        "id": "C6WUE2nAX3kn"
      }
    },
    {
      "cell_type": "markdown",
      "source": [
        "Você pode utilizar f - strings para criar uma mensagem com base em um valor de uma lista ."
      ],
      "metadata": {
        "id": "j7K2LvydYCGL"
      }
    },
    {
      "cell_type": "code",
      "source": [
        "message = f\"My first bicycle was a {bicycles[0].title()}\"\n",
        "print(message)"
      ],
      "metadata": {
        "colab": {
          "base_uri": "https://localhost:8080/"
        },
        "id": "ECU0WpbMQw7U",
        "outputId": "b46c7fb0-eeab-4c27-ccf6-fe68c8f75cd1"
      },
      "execution_count": 3,
      "outputs": [
        {
          "output_type": "stream",
          "name": "stdout",
          "text": [
            "My first bicycle was a Trek\n"
          ]
        }
      ]
    },
    {
      "cell_type": "markdown",
      "source": [
        "### Faça você mesmo"
      ],
      "metadata": {
        "id": "o5443dh2RaCo"
      }
    },
    {
      "cell_type": "markdown",
      "source": [
        "3.1 Nomes : Armazene o nome de alguns de seus amigos em uma lista chamada **names** . Exiba o nome de cada pessoa acessando cada elemento da lista , um de cada vez ."
      ],
      "metadata": {
        "id": "n_9QFanuRepn"
      }
    },
    {
      "cell_type": "code",
      "source": [
        "names = ['vitor', 'saviola', 'renan', 'espanhol', 'Rômulo']\n",
        "print(names[0].title())\n",
        "print(names[1].title())\n",
        "print(names[2].title())\n",
        "print(names[3].title())\n",
        "print(names[4].title())"
      ],
      "metadata": {
        "colab": {
          "base_uri": "https://localhost:8080/"
        },
        "id": "BfR9bjTiRoyZ",
        "outputId": "a1a11358-7803-4599-d416-7bc4de45ca38"
      },
      "execution_count": 5,
      "outputs": [
        {
          "output_type": "stream",
          "name": "stdout",
          "text": [
            "Vitor\n",
            "Saviola\n",
            "Renan\n",
            "Espanhol\n",
            "Rômulo\n"
          ]
        }
      ]
    },
    {
      "cell_type": "markdown",
      "source": [
        "3.2 Cumprimentos : Comece com a lista usada no Exercício 3.1 , mas em vez de apenas exibir o nome de cada pessoa , exiba também uma mensagem para elas . O texto de cada mensagem deve ser o mesmo , porém , cada mensagem deve ser personalizada com o nome da pessoa ."
      ],
      "metadata": {
        "id": "OXQVi9klTg14"
      }
    },
    {
      "cell_type": "code",
      "source": [
        "msn = f\"Olá Jovem {names[0].title()}!!!\"\n",
        "print(msn)\n",
        "msn = f\"Olá Jovem {names[1].title()}!!!\"\n",
        "print(msn)\n",
        "msn = f\"Olá Jovem {names[2].title()}!!!\"\n",
        "print(msn)\n",
        "msn = f\"Olá Jovem {names[3].title()}!!!\"\n",
        "print(msn)\n",
        "msn = f\"Olá Jovem {names[4].title()}!!!\"\n",
        "print(msn)"
      ],
      "metadata": {
        "colab": {
          "base_uri": "https://localhost:8080/"
        },
        "id": "7193P3pBTnOw",
        "outputId": "c90acf32-bdd7-4828-aefb-342fc1124a0d"
      },
      "execution_count": 8,
      "outputs": [
        {
          "output_type": "stream",
          "name": "stdout",
          "text": [
            "Olá Jovem Vitor!!!\n",
            "Olá Jovem Saviola!!!\n",
            "Olá Jovem Renan!!!\n",
            "Olá Jovem Espanhol!!!\n",
            "Olá Jovem Rômulo!!!\n"
          ]
        }
      ]
    },
    {
      "cell_type": "markdown",
      "source": [
        "3.3 Sua própria lista : Pense em seu meio de transporte favorito , como uma moto ou um carro , e crie uma lista que armazene diversos exemplos . Use sua lista para exibir uma série de declarações sobre esses itens , como \" Gostaria de ter uma moto da Honda ”."
      ],
      "metadata": {
        "id": "5p4v9LxEVEgE"
      }
    },
    {
      "cell_type": "code",
      "source": [
        "cars = ['Fiat Strada','Volkswagen Polo','Chevrolet Onix','Hyundai HB20','Volkswagen T-Cross','Fiat Mobi','Nissan Kicks','Hyundai Creta']\n",
        "\n",
        "print(f\"Bora andar de {cars[0].title()}??\")\n",
        "print(f\"Bora andar de {cars[2].title()}??\")\n",
        "print(f\"Bora andar de {cars[3].title()}??\")\n",
        "print(f\"Bora andar de {cars[1].title()}??\")\n",
        "print(f\"Bora andar de {cars[4].title()}??\")"
      ],
      "metadata": {
        "colab": {
          "base_uri": "https://localhost:8080/"
        },
        "id": "c2VG5QG6VYVg",
        "outputId": "463ce507-cc24-4b62-a484-01b2071c83ec"
      },
      "execution_count": 9,
      "outputs": [
        {
          "output_type": "stream",
          "name": "stdout",
          "text": [
            "Bora andar de Fiat Strada??\n",
            "Bora andar de Chevrolet Onix??\n",
            "Bora andar de Hyundai Hb20??\n",
            "Bora andar de Volkswagen Polo??\n",
            "Bora andar de Volkswagen T-Cross??\n"
          ]
        }
      ]
    },
    {
      "cell_type": "markdown",
      "source": [
        "###Modificando , adicionando e removendo elementos"
      ],
      "metadata": {
        "id": "OLQpm_GBYyfb"
      }
    },
    {
      "cell_type": "markdown",
      "source": [
        "####Modificando elementos em uma lista"
      ],
      "metadata": {
        "id": "6AK6CZdBY3X2"
      }
    },
    {
      "cell_type": "markdown",
      "source": [
        "A sintaxe para modificar um elemento se assemelha à sintaxe para acessar um elemento em uma lista . Para alterar um elemento , use o nome da lista seguido pelo índice do elemento que queira alterar e forneça o valor novo que quer que esse elemento tenha ."
      ],
      "metadata": {
        "id": "rzndOsfxZY1P"
      }
    },
    {
      "cell_type": "code",
      "source": [
        "motorcycles = ['honda','yamaha','suzuki']\n",
        "print(motorcycles)\n",
        "\n",
        "motorcycles[0] = 'ducati'\n",
        "print(motorcycles)"
      ],
      "metadata": {
        "colab": {
          "base_uri": "https://localhost:8080/"
        },
        "id": "mcijs5fZZc6e",
        "outputId": "ed488bcc-897c-4f76-d363-36437014479b"
      },
      "execution_count": 10,
      "outputs": [
        {
          "output_type": "stream",
          "name": "stdout",
          "text": [
            "['honda', 'yamaha', 'suzuki']\n",
            "['ducati', 'yamaha', 'suzuki']\n"
          ]
        }
      ]
    },
    {
      "cell_type": "markdown",
      "source": [
        "####Adicionando elementos a uma lista"
      ],
      "metadata": {
        "id": "eRdfUY4fai5d"
      }
    },
    {
      "cell_type": "markdown",
      "source": [],
      "metadata": {
        "id": "URbxpnHabob8"
      }
    }
  ]
}