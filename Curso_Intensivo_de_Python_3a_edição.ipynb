{
  "nbformat": 4,
  "nbformat_minor": 0,
  "metadata": {
    "colab": {
      "provenance": [],
      "toc_visible": true,
      "authorship_tag": "ABX9TyNhcR9s9wH8RJLIUNK1fa7C",
      "include_colab_link": true
    },
    "kernelspec": {
      "name": "python3",
      "display_name": "Python 3"
    },
    "language_info": {
      "name": "python"
    }
  },
  "cells": [
    {
      "cell_type": "markdown",
      "metadata": {
        "id": "view-in-github",
        "colab_type": "text"
      },
      "source": [
        "<a href=\"https://colab.research.google.com/github/Rafarosa/Curso_Intensivo_Python/blob/main/Curso_Intensivo_de_Python_3a_edi%C3%A7%C3%A3o.ipynb\" target=\"_parent\"><img src=\"https://colab.research.google.com/assets/colab-badge.svg\" alt=\"Open In Colab\"/></a>"
      ]
    },
    {
      "cell_type": "code",
      "execution_count": null,
      "metadata": {
        "id": "YIOKMLb5SjSo"
      },
      "outputs": [],
      "source": []
    },
    {
      "cell_type": "markdown",
      "source": [
        "\n",
        "\n",
        "```\n",
        "# Isto está formatado como código\n",
        "```\n",
        "\n",
        "# Capítulo 2 - Variaveis e tipos da dados simples"
      ],
      "metadata": {
        "id": "s2XhJxvCSk2f"
      }
    },
    {
      "cell_type": "markdown",
      "source": [
        "# Capítulo 3 - introdução a listas\n",
        "##### Neste capítulo e no próximo aprenderemos o que são listas e como começar a trabalhar com os elementos de uma lista . As listas possibilitam armazenar conjuntos de informações em um só lugar , mesmo se tivermos apenas alguns ou milhões de itens . As listas são um dos recursos mais poderosos do Python , de fácil acesso a novos programadores e relacionam muitos conceitos importantes da programação ."
      ],
      "metadata": {
        "id": "fK8lcW_6Sp1H"
      }
    },
    {
      "cell_type": "markdown",
      "source": [
        "Uma lista é uma coleção de itens em uma ordem específica ."
      ],
      "metadata": {
        "id": "hXLL91sDTWqX"
      }
    },
    {
      "cell_type": "code",
      "source": [
        "bicycles = ['trek','cannondale','redline','specialized']\n",
        "print(bicycles)"
      ],
      "metadata": {
        "colab": {
          "base_uri": "https://localhost:8080/"
        },
        "id": "XPROEvoyTenJ",
        "outputId": "cf47ae28-ff00-4bf4-f1d0-2167cc19e098"
      },
      "execution_count": null,
      "outputs": [
        {
          "output_type": "stream",
          "name": "stdout",
          "text": [
            "['trek', 'cannondale', 'redline', 'specialized']\n"
          ]
        }
      ]
    },
    {
      "cell_type": "markdown",
      "source": [
        "### Acessando elemento em uma lista"
      ],
      "metadata": {
        "id": "kO0v7tq8VQkx"
      }
    },
    {
      "cell_type": "code",
      "source": [
        "print(bicycles[0])"
      ],
      "metadata": {
        "colab": {
          "base_uri": "https://localhost:8080/"
        },
        "id": "1yskk_EbVgKx",
        "outputId": "d16ab73a-fce1-425a-a023-c6e1992d1405"
      },
      "execution_count": null,
      "outputs": [
        {
          "output_type": "stream",
          "name": "stdout",
          "text": [
            "trek\n"
          ]
        }
      ]
    },
    {
      "cell_type": "markdown",
      "source": [
        "Podemos também utilizar os métodos string do Capítulo 2 em qualquer elemento desta lista. Por exemplo, podemos formatar o elemento 'trek' para parecer mais apresentável usando o método title():"
      ],
      "metadata": {
        "id": "C_FjK9RUVzHs"
      }
    },
    {
      "cell_type": "code",
      "source": [
        "print(bicycles[0].title())"
      ],
      "metadata": {
        "colab": {
          "base_uri": "https://localhost:8080/"
        },
        "id": "u_ozkO4sV7Ww",
        "outputId": "130b6579-ab00-4736-8cdf-5eb8d0c02fab"
      },
      "execution_count": null,
      "outputs": [
        {
          "output_type": "stream",
          "name": "stdout",
          "text": [
            "Trek\n"
          ]
        }
      ]
    },
    {
      "cell_type": "markdown",
      "source": [
        "### As posições do índice começam em 0, não em 1"
      ],
      "metadata": {
        "id": "e3H7UGmiWQGK"
      }
    },
    {
      "cell_type": "markdown",
      "source": [
        "O Python considera que o primeiro item de uma lista está na posição 0, não na posição 1. Isso se aplica à maioria das linguagens de programação , devido ao fato de como as operações de lista são implementadas em um nível mais baixo . Se estiver recebendo resultados inesperados , pergunte a si mesmo se está cometendo um simples erro off - by - one ( erro de lógica ) ."
      ],
      "metadata": {
        "id": "-lLpB_47WV6j"
      }
    },
    {
      "cell_type": "code",
      "source": [
        "# O código a seguir consulta as bicicletas nos índices 1 e 3 :\n",
        "print(bicycles[1])\n",
        "print(bicycles[3])"
      ],
      "metadata": {
        "colab": {
          "base_uri": "https://localhost:8080/"
        },
        "id": "mDKiWSNZWs8a",
        "outputId": "2ded8d3c-1847-47b8-c658-9fb68a46311b"
      },
      "execution_count": null,
      "outputs": [
        {
          "output_type": "stream",
          "name": "stdout",
          "text": [
            "cannondale\n",
            "specialized\n"
          ]
        }
      ]
    },
    {
      "cell_type": "markdown",
      "source": [
        "O Python tem uma sintaxe singular para acessar o último elemento de uma lista . Se pedirmos o elemento no índice -1 , sempre retorna o último elemento da lista.\n",
        "\n",
        "*OBS: O índice -2 retorna o segundo elemento do final da lista , o índice -3 retorna o terceiro elemento do final , e assim por diante*"
      ],
      "metadata": {
        "id": "Lu79tvI0XFnW"
      }
    },
    {
      "cell_type": "code",
      "source": [
        "print(bicycles[-1])"
      ],
      "metadata": {
        "colab": {
          "base_uri": "https://localhost:8080/"
        },
        "id": "RTO3LLbXXIb1",
        "outputId": "13bf0cd6-ef2d-4dcc-9c08-5dfa6b18f52f"
      },
      "execution_count": null,
      "outputs": [
        {
          "output_type": "stream",
          "name": "stdout",
          "text": [
            "specialized\n"
          ]
        }
      ]
    },
    {
      "cell_type": "markdown",
      "source": [
        "### Usando valores individuais de uma lista"
      ],
      "metadata": {
        "id": "C6WUE2nAX3kn"
      }
    },
    {
      "cell_type": "markdown",
      "source": [
        "Você pode utilizar f - strings para criar uma mensagem com base em um valor de uma lista ."
      ],
      "metadata": {
        "id": "j7K2LvydYCGL"
      }
    },
    {
      "cell_type": "code",
      "source": [
        "message = f\"My first bicycle was a {bicycles[0].title()}\"\n",
        "print(message)"
      ],
      "metadata": {
        "colab": {
          "base_uri": "https://localhost:8080/"
        },
        "id": "ECU0WpbMQw7U",
        "outputId": "b46c7fb0-eeab-4c27-ccf6-fe68c8f75cd1"
      },
      "execution_count": null,
      "outputs": [
        {
          "output_type": "stream",
          "name": "stdout",
          "text": [
            "My first bicycle was a Trek\n"
          ]
        }
      ]
    },
    {
      "cell_type": "markdown",
      "source": [
        "### Faça você mesmo"
      ],
      "metadata": {
        "id": "o5443dh2RaCo"
      }
    },
    {
      "cell_type": "markdown",
      "source": [
        "3.1 Nomes : Armazene o nome de alguns de seus amigos em uma lista chamada **names** . Exiba o nome de cada pessoa acessando cada elemento da lista , um de cada vez ."
      ],
      "metadata": {
        "id": "n_9QFanuRepn"
      }
    },
    {
      "cell_type": "code",
      "source": [
        "names = ['vitor', 'saviola', 'renan', 'espanhol', 'Rômulo']\n",
        "print(names[0].title())\n",
        "print(names[1].title())\n",
        "print(names[2].title())\n",
        "print(names[3].title())\n",
        "print(names[4].title())"
      ],
      "metadata": {
        "colab": {
          "base_uri": "https://localhost:8080/"
        },
        "id": "BfR9bjTiRoyZ",
        "outputId": "a1a11358-7803-4599-d416-7bc4de45ca38"
      },
      "execution_count": null,
      "outputs": [
        {
          "output_type": "stream",
          "name": "stdout",
          "text": [
            "Vitor\n",
            "Saviola\n",
            "Renan\n",
            "Espanhol\n",
            "Rômulo\n"
          ]
        }
      ]
    },
    {
      "cell_type": "markdown",
      "source": [
        "3.2 Cumprimentos : Comece com a lista usada no Exercício 3.1 , mas em vez de apenas exibir o nome de cada pessoa , exiba também uma mensagem para elas . O texto de cada mensagem deve ser o mesmo , porém , cada mensagem deve ser personalizada com o nome da pessoa ."
      ],
      "metadata": {
        "id": "OXQVi9klTg14"
      }
    },
    {
      "cell_type": "code",
      "source": [
        "msn = f\"Olá Jovem {names[0].title()}!!!\"\n",
        "print(msn)\n",
        "msn = f\"Olá Jovem {names[1].title()}!!!\"\n",
        "print(msn)\n",
        "msn = f\"Olá Jovem {names[2].title()}!!!\"\n",
        "print(msn)\n",
        "msn = f\"Olá Jovem {names[3].title()}!!!\"\n",
        "print(msn)\n",
        "msn = f\"Olá Jovem {names[4].title()}!!!\"\n",
        "print(msn)"
      ],
      "metadata": {
        "colab": {
          "base_uri": "https://localhost:8080/"
        },
        "id": "7193P3pBTnOw",
        "outputId": "c90acf32-bdd7-4828-aefb-342fc1124a0d"
      },
      "execution_count": null,
      "outputs": [
        {
          "output_type": "stream",
          "name": "stdout",
          "text": [
            "Olá Jovem Vitor!!!\n",
            "Olá Jovem Saviola!!!\n",
            "Olá Jovem Renan!!!\n",
            "Olá Jovem Espanhol!!!\n",
            "Olá Jovem Rômulo!!!\n"
          ]
        }
      ]
    },
    {
      "cell_type": "markdown",
      "source": [
        "3.3 Sua própria lista : Pense em seu meio de transporte favorito , como uma moto ou um carro , e crie uma lista que armazene diversos exemplos . Use sua lista para exibir uma série de declarações sobre esses itens , como \" Gostaria de ter uma moto da Honda ”."
      ],
      "metadata": {
        "id": "5p4v9LxEVEgE"
      }
    },
    {
      "cell_type": "code",
      "source": [
        "cars = ['Fiat Strada','Volkswagen Polo','Chevrolet Onix','Hyundai HB20','Volkswagen T-Cross','Fiat Mobi','Nissan Kicks','Hyundai Creta']\n",
        "\n",
        "print(f\"Bora andar de {cars[0].title()}??\")\n",
        "print(f\"Bora andar de {cars[2].title()}??\")\n",
        "print(f\"Bora andar de {cars[3].title()}??\")\n",
        "print(f\"Bora andar de {cars[1].title()}??\")\n",
        "print(f\"Bora andar de {cars[4].title()}??\")"
      ],
      "metadata": {
        "colab": {
          "base_uri": "https://localhost:8080/"
        },
        "id": "c2VG5QG6VYVg",
        "outputId": "463ce507-cc24-4b62-a484-01b2071c83ec"
      },
      "execution_count": null,
      "outputs": [
        {
          "output_type": "stream",
          "name": "stdout",
          "text": [
            "Bora andar de Fiat Strada??\n",
            "Bora andar de Chevrolet Onix??\n",
            "Bora andar de Hyundai Hb20??\n",
            "Bora andar de Volkswagen Polo??\n",
            "Bora andar de Volkswagen T-Cross??\n"
          ]
        }
      ]
    },
    {
      "cell_type": "markdown",
      "source": [
        "###Modificando , adicionando e removendo elementos"
      ],
      "metadata": {
        "id": "OLQpm_GBYyfb"
      }
    },
    {
      "cell_type": "markdown",
      "source": [
        "####Modificando elementos em uma lista"
      ],
      "metadata": {
        "id": "6AK6CZdBY3X2"
      }
    },
    {
      "cell_type": "markdown",
      "source": [
        "A sintaxe para modificar um elemento se assemelha à sintaxe para acessar um elemento em uma lista . Para alterar um elemento , use o nome da lista seguido pelo índice do elemento que queira alterar e forneça o valor novo que quer que esse elemento tenha ."
      ],
      "metadata": {
        "id": "rzndOsfxZY1P"
      }
    },
    {
      "cell_type": "code",
      "source": [
        "motorcycles = ['honda','yamaha','suzuki']\n",
        "print(motorcycles)\n",
        "\n",
        "motorcycles[0] = 'ducati'\n",
        "print(motorcycles)"
      ],
      "metadata": {
        "colab": {
          "base_uri": "https://localhost:8080/"
        },
        "id": "mcijs5fZZc6e",
        "outputId": "ed488bcc-897c-4f76-d363-36437014479b"
      },
      "execution_count": null,
      "outputs": [
        {
          "output_type": "stream",
          "name": "stdout",
          "text": [
            "['honda', 'yamaha', 'suzuki']\n",
            "['ducati', 'yamaha', 'suzuki']\n"
          ]
        }
      ]
    },
    {
      "cell_type": "markdown",
      "source": [
        "####Adicionando elementos a uma lista"
      ],
      "metadata": {
        "id": "eRdfUY4fai5d"
      }
    },
    {
      "cell_type": "markdown",
      "source": [
        "O método ***append ( )*** facilita criar listas dinamicamente . Por exemplo , é possível começar com uma lista vazia e depois adicionar elementos nela usando uma série de métodos ***append ( )*** ."
      ],
      "metadata": {
        "id": "VldJl-1WWOU5"
      }
    },
    {
      "cell_type": "code",
      "source": [
        "# Anexando elemento no final de uma lista\n",
        "motorcycles_a = ['honda','yamaha','suzuke']\n",
        "\n",
        "print(motorcycles_a)\n",
        "# método append()\n",
        "motorcycles_a.append('ducati')\n",
        "\n",
        "print(motorcycles_a)\n",
        "#Adicionando dados em uma lista zerada\n",
        "motorcycles_zero = []\n",
        "motorcycles_zero.append('honda')\n",
        "motorcycles_zero.append('yamaha')\n",
        "motorcycles_zero.append('suzuky')\n",
        "\n",
        "print(motorcycles_zero)"
      ],
      "metadata": {
        "colab": {
          "base_uri": "https://localhost:8080/"
        },
        "id": "nOIq19LoO1yk",
        "outputId": "9b411a2a-9a31-43f9-a8db-8394aaec4f0f"
      },
      "execution_count": null,
      "outputs": [
        {
          "output_type": "stream",
          "name": "stdout",
          "text": [
            "['honda', 'yamaha', 'suzuke']\n",
            "['honda', 'yamaha', 'suzuke', 'ducati']\n",
            "['honda', 'yamaha', 'suzuky']\n"
          ]
        }
      ]
    },
    {
      "cell_type": "markdown",
      "source": [
        "Podemos adicionar um elemento novo em qualquer posição em sua lista usando o método ***insert ( )*** . Faremos isso especificando o índice do elemento novo e o valor do elemento novo :"
      ],
      "metadata": {
        "id": "jnFFAdneXQqY"
      }
    },
    {
      "cell_type": "code",
      "source": [
        "# Adicionando dados na lista com o método insert()\n",
        "motocycles_insert = ['honda','yamaha','suzuke']\n",
        "motocycles_insert.insert(0, 'ducati')\n",
        "\n",
        "print(motocycles_insert)\n",
        "#Essa operação desloca todos os outros valores uma posição à direita na lista ."
      ],
      "metadata": {
        "colab": {
          "base_uri": "https://localhost:8080/"
        },
        "id": "brqszRTxXbeb",
        "outputId": "2365368a-4140-4913-bb51-82bf8132a989"
      },
      "execution_count": null,
      "outputs": [
        {
          "output_type": "stream",
          "name": "stdout",
          "text": [
            "['ducati', 'honda', 'yamaha', 'suzuke']\n"
          ]
        }
      ]
    },
    {
      "cell_type": "markdown",
      "source": [
        "####Removendo elementos de uma lista"
      ],
      "metadata": {
        "id": "y5pwNGOyYP8t"
      }
    },
    {
      "cell_type": "markdown",
      "source": [
        "####Removendo um elemento usando a instrução del"
      ],
      "metadata": {
        "id": "HBn860paYlFF"
      }
    },
    {
      "cell_type": "markdown",
      "source": [
        "OBS: É possível remover um elemento de qualquer posição em uma lista usando a instrução del **se você souber seu índice.**"
      ],
      "metadata": {
        "id": "sphv1spJZ0bH"
      }
    },
    {
      "cell_type": "code",
      "source": [
        "#Removendo um elemento com a instrução del\n",
        "motocycles_del = ['honda','yamaha','suzuke']\n",
        "print(motocycles_del)\n",
        "\n",
        "del motocycles_del[0]\n",
        "print(motocycles_del)"
      ],
      "metadata": {
        "colab": {
          "base_uri": "https://localhost:8080/"
        },
        "id": "XcppY32aYyi0",
        "outputId": "192e1d85-6afd-45ae-e8e8-48e016046f85"
      },
      "execution_count": null,
      "outputs": [
        {
          "output_type": "stream",
          "name": "stdout",
          "text": [
            "['honda', 'yamaha', 'suzuke']\n",
            "['yamaha', 'suzuke']\n"
          ]
        }
      ]
    },
    {
      "cell_type": "markdown",
      "source": [
        "####Removendo um elemento usando a método pop()"
      ],
      "metadata": {
        "id": "xFpZ7uafaNIE"
      }
    },
    {
      "cell_type": "markdown",
      "source": [
        "O método ***pop()*** remove o último elemento de uma lista,` mas possibilita que você trabalhe com esse elemento após removê-lo`. O termo pop se origina da ideia de considerar uma lista como uma pilha de itens,removendo um item do topo da pilha . Analogicamente , o topo de uma pilha corresponde ao final de uma lista ."
      ],
      "metadata": {
        "id": "yr_dgQP_aorN"
      }
    },
    {
      "cell_type": "code",
      "source": [
        "# Utilizando o método pop()\n",
        "motocycles_pop = ['honda','yamaha','suzuke']\n",
        "print(motocycles_pop)\n",
        "\n",
        "# Removendo o ultimo elemento da Lista\n",
        "popped_motorcycle = motocycles_pop.pop()\n",
        "print(motocycles_pop)\n",
        "print(popped_motorcycle)\n",
        "\n",
        "#A saída demonstra que o valor ' suzuki ' foi removido do final da lista e agora está atribuído à variável popped_motorcycle:"
      ],
      "metadata": {
        "colab": {
          "base_uri": "https://localhost:8080/"
        },
        "id": "WhLp_pUtavhz",
        "outputId": "76d22c97-c8f2-46e4-bae5-0ab922884343"
      },
      "execution_count": null,
      "outputs": [
        {
          "output_type": "stream",
          "name": "stdout",
          "text": [
            "['honda', 'yamaha', 'suzuke']\n",
            "['honda', 'yamaha']\n",
            "suzuke\n"
          ]
        }
      ]
    },
    {
      "cell_type": "markdown",
      "source": [
        "Qual é a serventia desse método ***pop ( )*** ? Imagine que as motos da lista estão armazenadas em ordem cronológica , conforme a data de compra . Nesse caso , podemos utilizar o método ***pop ( )*** para exibir explicações sobre a última moto que compramos"
      ],
      "metadata": {
        "id": "xvYMyLdHdWo8"
      }
    },
    {
      "cell_type": "code",
      "source": [
        "my_motocycles = ['honda','yamaha','suzuke']\n",
        "last_owned = my_motocycles.pop()\n",
        "\n",
        "print(f\"Minha ultima moto comprada foi {last_owned.title()}\")"
      ],
      "metadata": {
        "colab": {
          "base_uri": "https://localhost:8080/"
        },
        "id": "ffD08headbbT",
        "outputId": "de2ed84e-6c71-4cde-97b0-57592410c4f0"
      },
      "execution_count": null,
      "outputs": [
        {
          "output_type": "stream",
          "name": "stdout",
          "text": [
            "Minha ultima moto comprada foi Suzuke\n"
          ]
        }
      ]
    },
    {
      "cell_type": "markdown",
      "source": [
        "####Removendo elementos de qualquer posição em uma lista"
      ],
      "metadata": {
        "id": "ycndkOHCj4Ev"
      }
    },
    {
      "cell_type": "markdown",
      "source": [
        "É possível usar o pop ( ) para remover um elemento de qualquer posição em uma lista , incluindo o índice do elemento que queira remover entre parênteses :"
      ],
      "metadata": {
        "id": "q6MxyV3ekLEu"
      }
    },
    {
      "cell_type": "code",
      "source": [
        "first_motorcycles = ['honda','yamaha','suzuke']\n",
        "# Removendo o elemento da lista na primeira possição e adicionando na variavel first_ownes\n",
        "first_owned = first_motorcycles.pop(0)\n",
        "\n",
        "print(f\"Minha primeira moto foi uma {first_owned.title()}\")"
      ],
      "metadata": {
        "colab": {
          "base_uri": "https://localhost:8080/"
        },
        "id": "I9VPOxL_kMHI",
        "outputId": "aba4404a-98f2-410c-8ac3-585f3e8456ab"
      },
      "execution_count": null,
      "outputs": [
        {
          "output_type": "stream",
          "name": "stdout",
          "text": [
            "Minha primeira moto foi uma Honda\n"
          ]
        }
      ]
    },
    {
      "cell_type": "markdown",
      "source": [
        "####Removendo um elementos por valor"
      ],
      "metadata": {
        "id": "RILT5u3Roec9"
      }
    },
    {
      "cell_type": "markdown",
      "source": [
        "Em alguns casos , não sabemos a posição do valor que queremos remover de uma lista . Se souber apenas o valor do elemento que quer remover , é possível usar o método ***remove ( )***."
      ],
      "metadata": {
        "id": "KorXso-Ookw5"
      }
    },
    {
      "cell_type": "code",
      "source": [
        "# removendo elementos com o método remove()\n",
        "motorcycles_store = ['honda','yamaha','suzuke','ducati']\n",
        "print(motorcycles_store)\n",
        "\n",
        "motorcycles_store.remove('ducati')\n",
        "print(motorcycles_store)"
      ],
      "metadata": {
        "colab": {
          "base_uri": "https://localhost:8080/"
        },
        "id": "g1IYJfj0opKg",
        "outputId": "6357e953-cb0d-45d1-8239-d60c9193407a"
      },
      "execution_count": null,
      "outputs": [
        {
          "output_type": "stream",
          "name": "stdout",
          "text": [
            "['honda', 'yamaha', 'suzuke', 'ducati']\n",
            "['honda', 'yamaha', 'suzuke']\n"
          ]
        }
      ]
    },
    {
      "cell_type": "code",
      "source": [
        "# Podemos também utilizar o método remove ( ) para trabalhar com um valor que está sendo removido de uma lista . Removeremos o valor ' ducati ' e exibiremos a justificativa para removê - lo da lista :\n",
        "motorcycles_store_rich = ['honda','yamaha','suzuke','ducati']\n",
        "print(motorcycles_store_rich)\n",
        "\n",
        "# removendo elemento por nome usando uma variavel\n",
        "too_expensive = 'ducati'\n",
        "motorcycles_store_rich.remove(too_expensive)\n",
        "\n",
        "print(motorcycles_store_rich)\n",
        "print(f\"\\nA {too_expensive.title()} is to expensive for me\")"
      ],
      "metadata": {
        "colab": {
          "base_uri": "https://localhost:8080/"
        },
        "id": "knQrmCrapmTV",
        "outputId": "aaa1f356-5e2e-4339-eaa6-c5dd5568579e"
      },
      "execution_count": null,
      "outputs": [
        {
          "output_type": "stream",
          "name": "stdout",
          "text": [
            "['honda', 'yamaha', 'suzuke', 'ducati']\n",
            "['honda', 'yamaha', 'suzuke']\n",
            "\n",
            "A Ducati is to expensive for me\n"
          ]
        }
      ]
    },
    {
      "cell_type": "markdown",
      "source": [
        "OBS: *O método remove ( ) deleta somente a primeira ocorrência do valor especificado . Se existir a possibilidade de o valor aparecer mais de uma vez na lista , é necessário usar um loop a fim de garantir que todas as ocorrências do valor sejam removidas .*"
      ],
      "metadata": {
        "id": "0YMl62K4qxb5"
      }
    },
    {
      "cell_type": "markdown",
      "source": [
        "### Faça você mesmo"
      ],
      "metadata": {
        "id": "7jtTh3S-q6zF"
      }
    },
    {
      "cell_type": "markdown",
      "source": [
        "**3.4 Lista de convidados** : Se pudesse convidar qualquer pessoa , viva ou falecida , para um jantar , quem você convidaria ? Crie uma lista que tenha pelo menos três pessoas que gostaria de convidar para um jantar . Em seguida , use sua lista a fim de exibir uma mensagem para cada pessoa , convidando - a para o jantar ."
      ],
      "metadata": {
        "id": "u2yhGgkNrE5o"
      }
    },
    {
      "cell_type": "code",
      "source": [
        "lista_de_convidados = ['Denzel Washington','Keanu Reeves', 'Angelina Jolie', 'Charlize Theron']\n",
        "print(f\"Por favor, venha jantar com a gente {lista_de_convidados[0].title()}\")\n",
        "print(f\"Por favor, venha jantar com a gente {lista_de_convidados[1].title()}\")\n",
        "print(f\"Por favor, venha jantar com a gente {lista_de_convidados[2].title()}\")\n",
        "print(f\"Por favor, venha jantar com a gente {lista_de_convidados[3].title()}\")"
      ],
      "metadata": {
        "id": "rxq1EKVTsoaz",
        "colab": {
          "base_uri": "https://localhost:8080/"
        },
        "outputId": "3b3a768b-65e0-4739-c705-e6bff590e3aa"
      },
      "execution_count": 19,
      "outputs": [
        {
          "output_type": "stream",
          "name": "stdout",
          "text": [
            "Por favor, venha jantar com a gente Denzel Washington\n",
            "Por favor, venha jantar com a gente Keanu Reeves\n",
            "Por favor, venha jantar com a gente Angelina Jolie\n",
            "Por favor, venha jantar com a gente Charlize Theron\n"
          ]
        }
      ]
    },
    {
      "cell_type": "markdown",
      "source": [
        "**3.5 Mudando a lista de convidados** : Você acabou de ficar sabendo que um dos convidados não conseguirá ir ao jantar , assim precisa enviar um conjunto novo de convites . É necessário convidar outra pessoa.\n",
        "\n",
        "*   Comece com o programa do Exercício 3.4 . No final do programa , adicione um print ( ) , informando o nome do convidado que não irá ao jantar .\n",
        "*   Modifique sua lista substituindo o nome do convidado que não pode comparecer pelo nome da pessoa nova que você está convidando .\n",
        "*   Exiba um segundo conjunto de mensagens de convite , uma para cada pessoa que ainda não consta em sua lista ."
      ],
      "metadata": {
        "id": "GZxWBWfHrTPh"
      }
    },
    {
      "cell_type": "code",
      "source": [
        "# convidade que não pode vir\n",
        "nao_vem = 'Angelina Jolie'\n",
        "print(f\"{nao_vem} não poderá vir\")\n",
        "\n",
        "#descobre o indice do convidade que não virá\n",
        "print(f\"A sua lista de convidados original: {lista_de_convidados}\")\n",
        "indice_convi_n_vem = lista_de_convidados.index(nao_vem)\n",
        "print(f\"O indice do convidade {nao_vem} é :{indice_convi_n_vem}\")\n",
        "\n",
        "#deletar convidade\n",
        "del(lista_de_convidados[indice_convi_n_vem])\n",
        "\n",
        "#adicionando novo convidado\n",
        "lista_de_convidados.insert(indice_convi_n_vem, 'Anne Hathaway')\n",
        "\n",
        "#print da nova lista\n",
        "print(f\"lista_de_convidados alterada: {lista_de_convidados}\")"
      ],
      "metadata": {
        "colab": {
          "base_uri": "https://localhost:8080/"
        },
        "id": "RnVDBBfoEDZs",
        "outputId": "80153b2b-02b0-42e5-bbc1-3687c64842d2"
      },
      "execution_count": 20,
      "outputs": [
        {
          "output_type": "stream",
          "name": "stdout",
          "text": [
            "Angelina Jolie não poderá vir\n",
            "A sua lista de convidados original: ['Denzel Washington', 'Keanu Reeves', 'Angelina Jolie', 'Charlize Theron']\n",
            "O indice do convidade Angelina Jolie é :2\n",
            "lista_de_convidados alterada: ['Denzel Washington', 'Keanu Reeves', 'Anne Hathaway', 'Charlize Theron']\n"
          ]
        }
      ]
    },
    {
      "cell_type": "markdown",
      "source": [
        "**3.6 Mais convidados** : Você acabou de encontrar uma mesa maior de jantar , agora há mais espaço disponível . Convide mais três pessoas para o jantar .\n",
        "\n",
        "* Comece com o programa do Exercício 3.4 ou 3.5 . No final do programa , adicione um print ( ) , informando às pessoas que encontrou uma mesa maior .\n",
        "* Use um insert ( ) para adicionar um convidado novo ao início de sua lista .\n",
        "* Use um insert ( ) para adicionar um convidado novo no meio de sua lista .\n",
        "* Use um append ( ) para adicionar um convidado novo no final de sua lista .\n",
        "* Exiba um conjunto novo de mensagens de convite , um para cada pessoa em sua lista ."
      ],
      "metadata": {
        "id": "6uWvtuOsryE2"
      }
    },
    {
      "cell_type": "code",
      "source": [
        "# Inserindo mais 3 convidadados\n",
        "# Inserindo dois convidados com insert\n",
        "lista_de_convidados.insert(0, 'Jodie Foster')\n",
        "lista_de_convidados.insert(0,'David Harbour')\n",
        "\n",
        "#inserindo um convidade com append()\n",
        "lista_de_convidados.append('David Harbour')\n",
        "\n",
        "# obtendo o tamenho da lista\n",
        "print(f\"{len(lista_de_convidados)}\")\n",
        "\n",
        "#Mandando uma mesagem para todos os convidadeos\n",
        "print(f\"Por favor, venha jantar com a gente {lista_de_convidados[0].title()}\")\n",
        "print(f\"Por favor, venha jantar com a gente {lista_de_convidados[1].title()}\")\n",
        "print(f\"Por favor, venha jantar com a gente {lista_de_convidados[2].title()}\")\n",
        "print(f\"Por favor, venha jantar com a gente {lista_de_convidados[3].title()}\")\n",
        "print(f\"Por favor, venha jantar com a gente {lista_de_convidados[4].title()}\")\n",
        "print(f\"Por favor, venha jantar com a gente {lista_de_convidados[5].title()}\")\n",
        "print(f\"Por favor, venha jantar com a gente {lista_de_convidados[6].title()}\")"
      ],
      "metadata": {
        "colab": {
          "base_uri": "https://localhost:8080/"
        },
        "id": "WfkzbAFhWasX",
        "outputId": "69f199a5-bfad-4418-ee70-4ba44e35b276"
      },
      "execution_count": 21,
      "outputs": [
        {
          "output_type": "stream",
          "name": "stdout",
          "text": [
            "7\n",
            "Por favor, venha jantar com a gente David Harbour\n",
            "Por favor, venha jantar com a gente Jodie Foster\n",
            "Por favor, venha jantar com a gente Denzel Washington\n",
            "Por favor, venha jantar com a gente Keanu Reeves\n",
            "Por favor, venha jantar com a gente Anne Hathaway\n",
            "Por favor, venha jantar com a gente Charlize Theron\n",
            "Por favor, venha jantar com a gente David Harbour\n"
          ]
        }
      ]
    },
    {
      "cell_type": "markdown",
      "source": [
        "3.7 Reduzindo a lista de convidados : Você acabou de descobrir que sua mesa nova de jantar não chegará a tempo e agora tem espaço somente para dois convidados .\n",
        "\n",
        "* Comece com o programa do Exercício 3.6 . Adicione uma linha nova que exiba uma mensagem que você pode convidar apenas duas pessoas para o jantar .\n",
        "* Use o pop ( ) para remover convidados de sua lista , um de cada vez , até que restem somente dois nomes nela . Sempre que remover um nome de sua lista , exiba uma mensagem para essa pessoa informando que lamenta por não poder convidá - la para o jantar .\n",
        "* Exiba uma mensagem para cada uma das duas pessoas que ainda estão na sua lista , informando que ainda estão convidadas .\n",
        "* Use o del para remover os dois últimos nomes de sua lista , para que ela fique vazia . Exiba sua lista para ter certeza de que você realmente tem uma lista vazia no final do seu programa ."
      ],
      "metadata": {
        "id": "YdxcUk9zsFqG"
      }
    },
    {
      "cell_type": "code",
      "source": [
        "# excluindo 5 convidados da lista\n",
        "# lembrando que nesse momento existem 7 convidados\n",
        "print(\"\\nDesculpa, Podemos convidar apenas duas pessoas para o jantar.\")\n",
        "\n",
        "name = lista_de_convidados.pop()\n",
        "print(f\"Desculpe, {name.title()} Não tem lugar na messa.\")\n",
        "\n",
        "name = lista_de_convidados.pop()\n",
        "print(f\"Desculpe, {name.title()} Não tem lugar na messa.\")\n",
        "\n",
        "name = lista_de_convidados.pop()\n",
        "print(f\"Desculpe, {name.title()} Não tem lugar na messa.\")\n",
        "\n",
        "name = lista_de_convidados.pop()\n",
        "print(f\"Desculpe, {name.title()} Não tem lugar na messa.\")\n",
        "\n",
        "name = lista_de_convidados.pop()\n",
        "print(f\"Desculpe, {name.title()} Não tem lugar na messa.\")\n",
        "\n",
        "# convidando as duas pessoas restantes\n",
        "name = lista_de_convidados[0].title()\n",
        "print(f\"{name}, porfavor venha para o jantar.\")\n",
        "\n",
        "name = lista_de_convidados[1].title()\n",
        "print(f\"{name}, porfavor venha para o jantar\")\n",
        "\n",
        "#excluindo todos os convidados\n",
        "del(lista_de_convidados[0])\n",
        "del(lista_de_convidados[0])"
      ],
      "metadata": {
        "colab": {
          "base_uri": "https://localhost:8080/"
        },
        "id": "fn-ncfxlax0H",
        "outputId": "cc41fc8c-3a3d-4a05-c660-ec4afae73f21"
      },
      "execution_count": 22,
      "outputs": [
        {
          "output_type": "stream",
          "name": "stdout",
          "text": [
            "\n",
            "Desculpa, Podemos convidar apenas duas pessoas para o jantar.\n",
            "Desculpe, David Harbour Não tem lugar na messa.\n",
            "Desculpe, Charlize Theron Não tem lugar na messa.\n",
            "Desculpe, Anne Hathaway Não tem lugar na messa.\n",
            "Desculpe, Keanu Reeves Não tem lugar na messa.\n",
            "Desculpe, Denzel Washington Não tem lugar na messa.\n",
            "David Harbour, porfavor venha para o jantar.\n",
            "Jodie Foster, porfavor venha para o jantar\n"
          ]
        }
      ]
    }
  ]
}