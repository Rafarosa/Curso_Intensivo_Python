{
 "cells": [
  {
   "cell_type": "markdown",
   "metadata": {},
   "source": [
    "# Capitulo 5 -  Instrução IF"
   ]
  },
  {
   "cell_type": "markdown",
   "metadata": {},
   "source": [
    "Neste capítulo , aprenderemos a escrever testes condicionais , que viabilizam analisar qualquer condição de interesse . Estudaremos como escrever simples instruções if e como criar uma série mais complexa de instruções if visando identificar se as condições exatas que você quer são especificadas ."
   ]
  },
  {
   "cell_type": "markdown",
   "metadata": {},
   "source": [
    "### Um exemplo simples"
   ]
  },
  {
   "cell_type": "code",
   "execution_count": 2,
   "metadata": {},
   "outputs": [
    {
     "name": "stdout",
     "output_type": "stream",
     "text": [
      "Audi\n",
      "BMW\n",
      "Subaru\n",
      "Toyota\n"
     ]
    }
   ],
   "source": [
    "cars = ['audi', 'bmw', 'subaru', 'toyota']\n",
    "\n",
    "for car in cars:\n",
    "    if car == 'bmw':\n",
    "        print(car.upper())\n",
    "    else:\n",
    "        print(car.title())"
   ]
  },
  {
   "cell_type": "markdown",
   "metadata": {},
   "source": [
    "### Testes Condicionais"
   ]
  },
  {
   "cell_type": "markdown",
   "metadata": {},
   "source": [
    "No cerne de cada instrução if reside uma expressão que pode ser avaliada como True ou False , chamada de teste condicional . O Python utiliza os valores True e False a fim de decidir se o código em uma instrução if deve ser executado . Se um teste condicional for avaliado como True , o Python executará o código após a instrução if . Se o teste for avaliado como False , o Python desconsiderará o código após a instrução if ."
   ]
  },
  {
   "cell_type": "code",
   "execution_count": 5,
   "metadata": {},
   "outputs": [
    {
     "name": "stdout",
     "output_type": "stream",
     "text": [
      "True\n",
      "False\n"
     ]
    }
   ],
   "source": [
    "# Verificação de igualdade \n",
    "car_01 = 'bmw'\n",
    "print(car_01 == 'bmw')\n",
    "\n",
    "car_01 = 'audi'\n",
    "print(car_01 == 'bmw')"
   ]
  },
  {
   "cell_type": "markdown",
   "metadata": {},
   "source": [
    "### Ignorando letras maiúsculas e minúsculas ao verificar a igualdade"
   ]
  },
  {
   "cell_type": "markdown",
   "metadata": {},
   "source": [
    "No Python , o teste de igualdade diferencia as letras maiúsculas de minúsculas . Por exemplo , dois valores com capitalizações diferentes não são considerados iguais :"
   ]
  },
  {
   "cell_type": "code",
   "execution_count": 6,
   "metadata": {},
   "outputs": [
    {
     "name": "stdout",
     "output_type": "stream",
     "text": [
      "False\n"
     ]
    }
   ],
   "source": [
    "# Validação de caracteres\n",
    "car_02 = 'Audi'\n",
    "print(car_02 == 'audi')"
   ]
  },
  {
   "cell_type": "code",
   "execution_count": 7,
   "metadata": {},
   "outputs": [],
   "source": [
    "# Caso queria ignorar a validação de letras minúsculas e maiúsculas. \n",
    "# uma alternativa é converter os dados das variaveis para minúsculo.\n",
    "\n",
    "car_02 = 'Audi'\n",
    "print(car_02.lower() == 'audi')"
   ]
  },
  {
   "cell_type": "markdown",
   "metadata": {},
   "source": [
    "### Verificando a diferença"
   ]
  },
  {
   "cell_type": "markdown",
   "metadata": {},
   "source": [
    "Quando queremos determinar se dois valores não são iguais , podemos usar o operador de diferença (!=) . Vejamos outra instrução if para examinar como usar o operador de diferença ."
   ]
  },
  {
   "cell_type": "code",
   "execution_count": 9,
   "metadata": {},
   "outputs": [
    {
     "name": "stdout",
     "output_type": "stream",
     "text": [
      "Hold the anchovies!!\n"
     ]
    }
   ],
   "source": [
    "requestd_topping = 'mushrooms'\n",
    "\n",
    "if requestd_topping != 'anchovies':\n",
    "    print(\"Hold the anchovies!!\")"
   ]
  },
  {
   "cell_type": "markdown",
   "metadata": {},
   "source": [
    "### Comparação numérica"
   ]
  },
  {
   "cell_type": "markdown",
   "metadata": {},
   "source": [
    "Testar valor numérico é bastante simples. por exemplo verificar se uma pessoal é adulta ou não"
   ]
  },
  {
   "cell_type": "code",
   "execution_count": 11,
   "metadata": {},
   "outputs": [
    {
     "name": "stdout",
     "output_type": "stream",
     "text": [
      "True\n"
     ]
    }
   ],
   "source": [
    "age = 18\n",
    "print(age == 18)"
   ]
  },
  {
   "cell_type": "markdown",
   "metadata": {},
   "source": [
    "Podemos testar se dois números não são iguais "
   ]
  },
  {
   "cell_type": "code",
   "execution_count": 12,
   "metadata": {},
   "outputs": [
    {
     "name": "stdout",
     "output_type": "stream",
     "text": [
      "that is not the correct answer. Please try again!!\n"
     ]
    }
   ],
   "source": [
    "answer = 17\n",
    "if answer != 42:\n",
    "    print(\"that is not the correct answer. Please try again!!\")"
   ]
  },
  {
   "cell_type": "markdown",
   "metadata": {},
   "source": [
    "### Verificando múltiplas condições\n",
    "Talvez você queira verificar múltiplas condições ao mesmo tempo . Por exemplo , às vezes você precisa que duas condições sejam True para executar uma ação . Outras vezes , você fica satisfeito com apenas uma condição sendo True . As palavras reservadas and e or podem ajudar nessas situações ."
   ]
  },
  {
   "cell_type": "markdown",
   "metadata": {},
   "source": [
    "#### Usando and para veriicar múltiplas condições\n",
    "Para verificar se duas condições são concomitantemente True , use a palavra reservada and para combinar os dois testes condicionais ; se cada teste passar , a expressão geral será avaliada como True . Se um dos testes falhar ou ambos os testes falharem , a expressão será avaliada como False ."
   ]
  },
  {
   "cell_type": "code",
   "execution_count": 14,
   "metadata": {},
   "outputs": [
    {
     "name": "stdout",
     "output_type": "stream",
     "text": [
      "False\n",
      "True\n"
     ]
    }
   ],
   "source": [
    "# Verificar se duas pessoal têm mais de 21 anos\n",
    "age_0 = 22\n",
    "age_1 = 18\n",
    "\n",
    "print(age_0 >= 21 and age_1 >= 21)\n",
    "\n",
    "age_1 = 22\n",
    "print(age_0 >= 21 and age_1 >= 21)"
   ]
  },
  {
   "cell_type": "code",
   "execution_count": 15,
   "metadata": {},
   "outputs": [
    {
     "name": "stdout",
     "output_type": "stream",
     "text": [
      "False\n"
     ]
    }
   ],
   "source": [
    "# Melhore legibilidade do código\n",
    "age_0 = 22\n",
    "age_1 = 18\n",
    "\n",
    "print((age_0 >= 21)and(age_1 >= 21))"
   ]
  },
  {
   "cell_type": "markdown",
   "metadata": {},
   "source": [
    "#### Usando or para verificar múltiplas condições\n",
    "o teste passa quando um ou ambos os testes individuais passam . Uma expressão or falha apenas quando ambos os testes individuais falham ."
   ]
  },
  {
   "cell_type": "code",
   "execution_count": 1,
   "metadata": {},
   "outputs": [
    {
     "name": "stdout",
     "output_type": "stream",
     "text": [
      "True\n"
     ]
    }
   ],
   "source": [
    "age_0 = 22\n",
    "age_1 = 18\n",
    "print((age_0 >= 21)or(age_1 >= 21))"
   ]
  },
  {
   "cell_type": "markdown",
   "metadata": {},
   "source": [
    "### Verificando se um valor está na lista\n",
    "\n",
    "Para averiguar se um determinado valor já está em uma lista , use a palavra reservada in ."
   ]
  },
  {
   "cell_type": "code",
   "execution_count": 3,
   "metadata": {},
   "outputs": [
    {
     "name": "stdout",
     "output_type": "stream",
     "text": [
      "False\n",
      "True\n"
     ]
    }
   ],
   "source": [
    "requestd_topping = ['mushrooms', 'onions', 'pineapple']\n",
    "print('pepperoni' in requestd_topping)\n",
    "print('mushrooms' in requestd_topping)"
   ]
  },
  {
   "cell_type": "markdown",
   "metadata": {},
   "source": [
    "### Verificando se um valor não está na lista\n",
    "\n",
    "Para averiguar se um determinado valor já está em uma lista , use a palavra reservada not in ."
   ]
  },
  {
   "cell_type": "code",
   "execution_count": 4,
   "metadata": {},
   "outputs": [
    {
     "name": "stdout",
     "output_type": "stream",
     "text": [
      "Marie, you can post a response if you wish.\n"
     ]
    }
   ],
   "source": [
    "banned_users = ['andrew', 'carolina', 'david']\n",
    "user = 'marie'\n",
    "\n",
    "if user not in banned_users:\n",
    "    print(f\"{user.title()}, you can post a response if you wish.\")"
   ]
  },
  {
   "cell_type": "markdown",
   "metadata": {},
   "source": [
    "#### Expressões booleanas\n",
    "\n",
    "Expressão booleana é somente outra palavra para teste condicional . Um valor booleano é True ou False , assim como o valor de uma expressão condicional depois de avaliada . Os valores booleanos costumam ser usados para acompanhar determinadas condições , como se um jogo estiver sendo executado ou se um usuário tem permissão para editar determinado conteúdo em um site :"
   ]
  },
  {
   "cell_type": "code",
   "execution_count": null,
   "metadata": {},
   "outputs": [],
   "source": [
    "game_active = True\n",
    "can_edit = False"
   ]
  },
  {
   "cell_type": "markdown",
   "metadata": {},
   "source": [
    "### Instrções if\n",
    "#### Instrução if simples\n",
    "\n",
    "O tipo mais simples de instrução if tem um teste e um ação \n",
    "\n",
    "```python\n",
    "if teste_ condicional:\n",
    "    faça alguma coisa\n",
    "```"
   ]
  },
  {
   "cell_type": "code",
   "execution_count": 6,
   "metadata": {},
   "outputs": [
    {
     "name": "stdout",
     "output_type": "stream",
     "text": [
      "you are old enough to vote!\n",
      "Have you registered to vote yet?\n"
     ]
    }
   ],
   "source": [
    "# Quero saber se uma pessoa pode votar\n",
    "age = 19\n",
    "if age >= 18:\n",
    "    print(\"you are old enough to vote!\")\n",
    "    print(\"Have you registered to vote yet?\")"
   ]
  },
  {
   "cell_type": "markdown",
   "metadata": {},
   "source": [
    "#### Instruções if - else\n",
    "\n",
    "Um bloco if - else se parece com uma instrução if simples , exceto que a instrução else permite definir uma ação ou um conjunto de ações que são executadas quando o teste condicional falha . Mostraremos a mesma mensagem exibida anteriormente se a pessoa tiver idade suficiente para votar , mas , desta vez , adicionaremos uma mensagem para quem não tiver idade para votar :"
   ]
  },
  {
   "cell_type": "code",
   "execution_count": 8,
   "metadata": {},
   "outputs": [
    {
     "name": "stdout",
     "output_type": "stream",
     "text": [
      "You are old enough to vote!\n",
      "Have you registered to vote yet?\n"
     ]
    }
   ],
   "source": [
    "age = 17\n",
    "if age >=18:\n",
    "    print(\"You are old enough to vote!\")\n",
    "    print(\"Have you registered to vote yet?\")\n",
    "else:\n",
    "    print(\"Sorry, you are too young to vote.\")\n",
    "    print(\"Please register to vote as soon as you turn 18!\")"
   ]
  }
 ],
 "metadata": {
  "kernelspec": {
   "display_name": "Python 3",
   "language": "python",
   "name": "python3"
  },
  "language_info": {
   "codemirror_mode": {
    "name": "ipython",
    "version": 3
   },
   "file_extension": ".py",
   "mimetype": "text/x-python",
   "name": "python",
   "nbconvert_exporter": "python",
   "pygments_lexer": "ipython3",
   "version": "3.13.1"
  }
 },
 "nbformat": 4,
 "nbformat_minor": 2
}
