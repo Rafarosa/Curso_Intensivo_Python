{
 "cells": [
  {
   "cell_type": "markdown",
   "metadata": {},
   "source": [
    "# Capitulo 5 -  Instrução IF"
   ]
  },
  {
   "cell_type": "markdown",
   "metadata": {},
   "source": [
    "Neste capítulo , aprenderemos a escrever testes condicionais , que viabilizam analisar qualquer condição de interesse . Estudaremos como escrever simples instruções if e como criar uma série mais complexa de instruções if visando identificar se as condições exatas que você quer são especificadas ."
   ]
  },
  {
   "cell_type": "markdown",
   "metadata": {},
   "source": [
    "### Um exemplo simples"
   ]
  },
  {
   "cell_type": "code",
   "execution_count": 2,
   "metadata": {},
   "outputs": [
    {
     "name": "stdout",
     "output_type": "stream",
     "text": [
      "Audi\n",
      "BMW\n",
      "Subaru\n",
      "Toyota\n"
     ]
    }
   ],
   "source": [
    "cars = ['audi', 'bmw', 'subaru', 'toyota']\n",
    "\n",
    "for car in cars:\n",
    "    if car == 'bmw':\n",
    "        print(car.upper())\n",
    "    else:\n",
    "        print(car.title())"
   ]
  },
  {
   "cell_type": "markdown",
   "metadata": {},
   "source": [
    "### Testes Condicionais"
   ]
  },
  {
   "cell_type": "markdown",
   "metadata": {},
   "source": [
    "No cerne de cada instrução if reside uma expressão que pode ser avaliada como True ou False , chamada de teste condicional . O Python utiliza os valores True e False a fim de decidir se o código em uma instrução if deve ser executado . Se um teste condicional for avaliado como True , o Python executará o código após a instrução if . Se o teste for avaliado como False , o Python desconsiderará o código após a instrução if ."
   ]
  },
  {
   "cell_type": "code",
   "execution_count": 5,
   "metadata": {},
   "outputs": [
    {
     "name": "stdout",
     "output_type": "stream",
     "text": [
      "True\n",
      "False\n"
     ]
    }
   ],
   "source": [
    "# Verificação de igualdade \n",
    "car_01 = 'bmw'\n",
    "print(car_01 == 'bmw')\n",
    "\n",
    "car_01 = 'audi'\n",
    "print(car_01 == 'bmw')"
   ]
  },
  {
   "cell_type": "markdown",
   "metadata": {},
   "source": [
    "### Ignorando letras maiúsculas e minúsculas ao verificar a igualdade"
   ]
  },
  {
   "cell_type": "markdown",
   "metadata": {},
   "source": [
    "No Python , o teste de igualdade diferencia as letras maiúsculas de minúsculas . Por exemplo , dois valores com capitalizações diferentes não são considerados iguais :"
   ]
  },
  {
   "cell_type": "code",
   "execution_count": 6,
   "metadata": {},
   "outputs": [
    {
     "name": "stdout",
     "output_type": "stream",
     "text": [
      "False\n"
     ]
    }
   ],
   "source": [
    "# Validação de caracteres\n",
    "car_02 = 'Audi'\n",
    "print(car_02 == 'audi')"
   ]
  },
  {
   "cell_type": "code",
   "execution_count": 7,
   "metadata": {},
   "outputs": [],
   "source": [
    "# Caso queria ignorar a validação de letras minúsculas e maiúsculas. \n",
    "# uma alternativa é converter os dados das variaveis para minúsculo.\n",
    "\n",
    "car_02 = 'Audi'\n",
    "print(car_02.lower() == 'audi')"
   ]
  },
  {
   "cell_type": "markdown",
   "metadata": {},
   "source": [
    "### Verificando a diferença"
   ]
  },
  {
   "cell_type": "markdown",
   "metadata": {},
   "source": [
    "Quando queremos determinar se dois valores não são iguais , podemos usar o operador de diferença (!=) . Vejamos outra instrução if para examinar como usar o operador de diferença ."
   ]
  },
  {
   "cell_type": "code",
   "execution_count": 9,
   "metadata": {},
   "outputs": [
    {
     "name": "stdout",
     "output_type": "stream",
     "text": [
      "Hold the anchovies!!\n"
     ]
    }
   ],
   "source": [
    "requestd_topping = 'mushrooms'\n",
    "\n",
    "if requestd_topping != 'anchovies':\n",
    "    print(\"Hold the anchovies!!\")"
   ]
  },
  {
   "cell_type": "markdown",
   "metadata": {},
   "source": [
    "### Comparação numérica"
   ]
  },
  {
   "cell_type": "markdown",
   "metadata": {},
   "source": [
    "Testar valor numérico é bastante simples. por exemplo verificar se uma pessoal é adulta ou não"
   ]
  },
  {
   "cell_type": "code",
   "execution_count": 11,
   "metadata": {},
   "outputs": [
    {
     "name": "stdout",
     "output_type": "stream",
     "text": [
      "True\n"
     ]
    }
   ],
   "source": [
    "age = 18\n",
    "print(age == 18)"
   ]
  },
  {
   "cell_type": "markdown",
   "metadata": {},
   "source": [
    "Podemos testar se dois números não são iguais "
   ]
  },
  {
   "cell_type": "code",
   "execution_count": 12,
   "metadata": {},
   "outputs": [
    {
     "name": "stdout",
     "output_type": "stream",
     "text": [
      "that is not the correct answer. Please try again!!\n"
     ]
    }
   ],
   "source": [
    "answer = 17\n",
    "if answer != 42:\n",
    "    print(\"that is not the correct answer. Please try again!!\")"
   ]
  },
  {
   "cell_type": "markdown",
   "metadata": {},
   "source": [
    "### Verificando múltiplas condições\n",
    "Talvez você queira verificar múltiplas condições ao mesmo tempo . Por exemplo , às vezes você precisa que duas condições sejam True para executar uma ação . Outras vezes , você fica satisfeito com apenas uma condição sendo True . As palavras reservadas and e or podem ajudar nessas situações ."
   ]
  },
  {
   "cell_type": "markdown",
   "metadata": {},
   "source": [
    "#### Usando and para veriicar múltiplas condições\n",
    "Para verificar se duas condições são concomitantemente True , use a palavra reservada and para combinar os dois testes condicionais ; se cada teste passar , a expressão geral será avaliada como True . Se um dos testes falhar ou ambos os testes falharem , a expressão será avaliada como False ."
   ]
  },
  {
   "cell_type": "code",
   "execution_count": 14,
   "metadata": {},
   "outputs": [
    {
     "name": "stdout",
     "output_type": "stream",
     "text": [
      "False\n",
      "True\n"
     ]
    }
   ],
   "source": [
    "# Verificar se duas pessoal têm mais de 21 anos\n",
    "age_0 = 22\n",
    "age_1 = 18\n",
    "\n",
    "print(age_0 >= 21 and age_1 >= 21)\n",
    "\n",
    "age_1 = 22\n",
    "print(age_0 >= 21 and age_1 >= 21)"
   ]
  },
  {
   "cell_type": "code",
   "execution_count": 15,
   "metadata": {},
   "outputs": [
    {
     "name": "stdout",
     "output_type": "stream",
     "text": [
      "False\n"
     ]
    }
   ],
   "source": [
    "# Melhore legibilidade do código\n",
    "age_0 = 22\n",
    "age_1 = 18\n",
    "\n",
    "print((age_0 >= 21)and(age_1 >= 21))"
   ]
  },
  {
   "cell_type": "markdown",
   "metadata": {},
   "source": [
    "#### Usando or para verificar múltiplas condições\n",
    "o teste passa quando um ou ambos os testes individuais passam . Uma expressão or falha apenas quando ambos os testes individuais falham ."
   ]
  },
  {
   "cell_type": "code",
   "execution_count": 1,
   "metadata": {},
   "outputs": [
    {
     "name": "stdout",
     "output_type": "stream",
     "text": [
      "True\n"
     ]
    }
   ],
   "source": [
    "age_0 = 22\n",
    "age_1 = 18\n",
    "print((age_0 >= 21)or(age_1 >= 21))"
   ]
  },
  {
   "cell_type": "markdown",
   "metadata": {},
   "source": [
    "### Verificando se um valor está na lista\n",
    "\n",
    "Para averiguar se um determinado valor já está em uma lista , use a palavra reservada in ."
   ]
  },
  {
   "cell_type": "code",
   "execution_count": 3,
   "metadata": {},
   "outputs": [
    {
     "name": "stdout",
     "output_type": "stream",
     "text": [
      "False\n",
      "True\n"
     ]
    }
   ],
   "source": [
    "requestd_topping = ['mushrooms', 'onions', 'pineapple']\n",
    "print('pepperoni' in requestd_topping)\n",
    "print('mushrooms' in requestd_topping)"
   ]
  },
  {
   "cell_type": "markdown",
   "metadata": {},
   "source": [
    "### Verificando se um valor não está na lista\n",
    "\n",
    "Para averiguar se um determinado valor já está em uma lista , use a palavra reservada not in ."
   ]
  },
  {
   "cell_type": "code",
   "execution_count": 4,
   "metadata": {},
   "outputs": [
    {
     "name": "stdout",
     "output_type": "stream",
     "text": [
      "Marie, you can post a response if you wish.\n"
     ]
    }
   ],
   "source": [
    "banned_users = ['andrew', 'carolina', 'david']\n",
    "user = 'marie'\n",
    "\n",
    "if user not in banned_users:\n",
    "    print(f\"{user.title()}, you can post a response if you wish.\")"
   ]
  },
  {
   "cell_type": "markdown",
   "metadata": {},
   "source": [
    "#### Expressões booleanas\n",
    "\n",
    "Expressão booleana é somente outra palavra para teste condicional . Um valor booleano é True ou False , assim como o valor de uma expressão condicional depois de avaliada . Os valores booleanos costumam ser usados para acompanhar determinadas condições , como se um jogo estiver sendo executado ou se um usuário tem permissão para editar determinado conteúdo em um site :"
   ]
  },
  {
   "cell_type": "code",
   "execution_count": null,
   "metadata": {},
   "outputs": [],
   "source": [
    "game_active = True\n",
    "can_edit = False"
   ]
  },
  {
   "cell_type": "markdown",
   "metadata": {},
   "source": [
    "### Instrções if\n",
    "#### Instrução if simples\n",
    "\n",
    "O tipo mais simples de instrução if tem um teste e um ação \n",
    "\n",
    "```python\n",
    "if teste_ condicional:\n",
    "    faça alguma coisa\n",
    "```"
   ]
  },
  {
   "cell_type": "code",
   "execution_count": 6,
   "metadata": {},
   "outputs": [
    {
     "name": "stdout",
     "output_type": "stream",
     "text": [
      "you are old enough to vote!\n",
      "Have you registered to vote yet?\n"
     ]
    }
   ],
   "source": [
    "# Quero saber se uma pessoa pode votar\n",
    "age = 19\n",
    "if age >= 18:\n",
    "    print(\"you are old enough to vote!\")\n",
    "    print(\"Have you registered to vote yet?\")"
   ]
  },
  {
   "cell_type": "markdown",
   "metadata": {},
   "source": [
    "#### Instruções if - else\n",
    "\n",
    "Um bloco if - else se parece com uma instrução if simples , exceto que a instrução else permite definir uma ação ou um conjunto de ações que são executadas quando o teste condicional falha . Mostraremos a mesma mensagem exibida anteriormente se a pessoa tiver idade suficiente para votar , mas , desta vez , adicionaremos uma mensagem para quem não tiver idade para votar :"
   ]
  },
  {
   "cell_type": "code",
   "execution_count": 8,
   "metadata": {},
   "outputs": [
    {
     "name": "stdout",
     "output_type": "stream",
     "text": [
      "You are old enough to vote!\n",
      "Have you registered to vote yet?\n"
     ]
    }
   ],
   "source": [
    "age = 17\n",
    "if age >=18:\n",
    "    print(\"You are old enough to vote!\")\n",
    "    print(\"Have you registered to vote yet?\")\n",
    "else:\n",
    "    print(\"Sorry, you are too young to vote.\")\n",
    "    print(\"Please register to vote as soon as you turn 18!\")"
   ]
  },
  {
   "cell_type": "markdown",
   "metadata": {},
   "source": [
    "#### Sequência if - elif - else\n",
    "\n",
    "Precisaremos com frequência testar mais de duas situações possíveis e , para avaliá - las , podemos usar a sintaxe if - elif - else do Python . O Python executa somente um bloco em uma sequência if - elif - else . E executa cada teste condicional consecutivamente , até que um passe . Quando um teste passa , o código seguinte a esse teste é executado e o Python desconsidera o restante dos testes ."
   ]
  },
  {
   "cell_type": "code",
   "execution_count": 9,
   "metadata": {},
   "outputs": [
    {
     "name": "stdout",
     "output_type": "stream",
     "text": [
      "Your admission cost is $25.\n"
     ]
    }
   ],
   "source": [
    "age = 12\n",
    "if age < 4:\n",
    "    print(\"Your admission cost is $0.\") \n",
    "elif age < 18:\n",
    "    print(\"Your admission cost is $25.\")\n",
    "else:\n",
    "    print(\"Your admission cost is $40.\")"
   ]
  },
  {
   "cell_type": "code",
   "execution_count": 10,
   "metadata": {},
   "outputs": [
    {
     "name": "stdout",
     "output_type": "stream",
     "text": [
      "Your admission cost is $25.\n"
     ]
    }
   ],
   "source": [
    "# Fazendo o codigo mais eficiente\n",
    "\n",
    "age = 12\n",
    "if age < 4:\n",
    "    price = 0\n",
    "elif age < 18:\n",
    "    price = 25\n",
    "else:  \n",
    "    price = 40\n",
    "\n",
    "print(f\"Your admission cost is ${price}.\")"
   ]
  },
  {
   "cell_type": "markdown",
   "metadata": {},
   "source": [
    "### usando instruções if com listas\n",
    "#### verificando elementos especiais \n"
   ]
  },
  {
   "cell_type": "code",
   "execution_count": 11,
   "metadata": {},
   "outputs": [
    {
     "name": "stdout",
     "output_type": "stream",
     "text": [
      "Adding mushrooms.\n",
      "Adding green peppers.\n",
      "Adding extra cheese.\n",
      "\n",
      "Finished making your pizza!\n"
     ]
    }
   ],
   "source": [
    "requestd_topping = ['mushrooms', 'green peppers', 'extra cheese']\n",
    "\n",
    "for requested_top in requestd_topping:\n",
    "    print(f\"Adding {requested_top}.\")\n",
    "print(\"\\nFinished making your pizza!\")"
   ]
  },
  {
   "cell_type": "code",
   "execution_count": 12,
   "metadata": {},
   "outputs": [
    {
     "name": "stdout",
     "output_type": "stream",
     "text": [
      "Adding mushrooms.\n",
      "Sorry, we are out of green peppers right now.\n",
      "Adding extra cheese.\n",
      "\n",
      "Finished making your pizza!\n"
     ]
    }
   ],
   "source": [
    "requestd_topping = ['mushrooms', 'green peppers', 'extra cheese']\n",
    "for requested_top in requestd_topping:\n",
    "    if requested_top == 'green peppers':\n",
    "        print(\"Sorry, we are out of green peppers right now.\")\n",
    "    else:\n",
    "        print(f\"Adding {requested_top}.\")\n",
    "print(\"\\nFinished making your pizza!\")"
   ]
  },
  {
   "cell_type": "markdown",
   "metadata": {},
   "source": [
    "#### verificando se uma lista não está vazia"
   ]
  },
  {
   "cell_type": "code",
   "execution_count": 14,
   "metadata": {},
   "outputs": [
    {
     "name": "stdout",
     "output_type": "stream",
     "text": [
      "Are you sure you want a plain pizza?\n"
     ]
    }
   ],
   "source": [
    "requestd_topping = []\n",
    "\n",
    "if requestd_topping:\n",
    "    for requested_top in requestd_topping:\n",
    "        print(f\"Adding {requested_top}.\")\n",
    "    print(\"\\nFinished making your pizza!\")\n",
    "else:\n",
    "    print(\"Are you sure you want a plain pizza?\")"
   ]
  },
  {
   "cell_type": "markdown",
   "metadata": {},
   "source": [
    "#### Usando múltiplas listas"
   ]
  },
  {
   "cell_type": "code",
   "execution_count": 21,
   "metadata": {},
   "outputs": [
    {
     "name": "stdout",
     "output_type": "stream",
     "text": [
      "Adding mushrooms.\n",
      "Sorry, we don't have french fries.\n",
      "Adding extra cheese.\n"
     ]
    }
   ],
   "source": [
    "available_toppings = ['mushrooms', 'olives', 'green peppers', 'pepperoni', 'pineapple', 'extra cheese']\n",
    "requestd_topping = ['mushrooms', 'french fries', 'extra cheese']\n",
    "\n",
    "for requested_top in requestd_topping:\n",
    "    if requested_top in available_toppings:\n",
    "        print(f\"Adding {requested_top}.\")\n",
    "    else:\n",
    "        print(f\"Sorry, we don't have {requested_top}.\")"
   ]
  },
  {
   "cell_type": "code",
   "execution_count": 4,
   "metadata": {},
   "outputs": [
    {
     "name": "stdout",
     "output_type": "stream",
     "text": [
      "We need to find some users!\n"
     ]
    }
   ],
   "source": [
    "## Exercícios\n",
    "# 5.8 olá admin: crie um lista de cinco ou mais nomes de usuários, incluindo o nome 'admin'. imagine que você está escrevendo um código que exibirá uma saudação a cada usuário depois que eles fizerem login em um site. \n",
    "# Percorra a lista com um laço e mostre uma saudação para cada usuário.\n",
    "usuario = ['admin', 'user_01', 'user_02', 'user_03', 'user_04', 'user_05']\n",
    "\n",
    "if usuario == []:\n",
    "    print(\"We need to find some users!\")\n",
    "else:\n",
    "    for user in usuario:\n",
    "        if user == 'admin':\n",
    "            print(f\"olá {user}, gostaria de ver um relatório de status?\")\n",
    "        else:\n",
    "            print(f\"olá{user}, bem vindo \")"
   ]
  },
  {
   "cell_type": "code",
   "execution_count": 7,
   "metadata": {},
   "outputs": [
    {
     "name": "stdout",
     "output_type": "stream",
     "text": [
      "Sorry Sevao, that name is taken.\n",
      "Sorry Vabar, that name is taken.\n",
      "Sorry Jhon, that name is taken.\n",
      "Great, Xeugu is still available.\n",
      "Great, Fixasol is still available.\n"
     ]
    }
   ],
   "source": [
    "# 5.10 Verificando nomes de usuários: faça o seguinte para criar um progrma que simule como os sites garantem que todos tenham um nome de usuário único exclusivo.\n",
    "# Crie uma lista chamada current_users com cinco ou mais nomes de usuários.\n",
    "# Crie outra lista chamada new_users com cinco nomes de usuários. Garanta que um ou dois dos novos usuários também estejam na lista current_users.\n",
    "# Percorra a lista new_users e para cada novo usuário, verifique se ele já foi usado. Se tiver sido, exiba uma mensagem informando que a pessoa deverá fornecer um novo nome. \n",
    "# Se um nome não foi usado, exiba uma mensagem informando que o nome do usuário está disponível.\n",
    "# garanta que sua comparação não leva em conta as diferenças entre maiúsculas e minúsculas. Se 'John' foi usado, 'JOHN' não deverá ser aceito.\n",
    "\n",
    "current_users = ['Sevao','Vabar','Jhon','Doe', 'Toan']\n",
    "new_users = ['Sevao','Vabar','Jhon','Xeugu', 'Fixasol']\n",
    "\n",
    "for new_user in new_users:\n",
    "    if new_user.title() in current_users:\n",
    "        print(f\"Sorry {new_user}, that name is taken.\")\n",
    "    else:\n",
    "        print(f\"Great, {new_user} is still available.\")\n"
   ]
  },
  {
   "cell_type": "code",
   "execution_count": 12,
   "metadata": {},
   "outputs": [
    {
     "name": "stdout",
     "output_type": "stream",
     "text": [
      "[1, 2, 3, 4, 5, 6, 7, 8, 9, 10]\n",
      "1st\n",
      "2nd\n",
      "3th\n",
      "4th\n",
      "5th\n",
      "6th\n",
      "7th\n",
      "8th\n",
      "9th\n",
      "10th\n"
     ]
    }
   ],
   "source": [
    "# 5.11 Números ordenados: faça o seguinte para criar uma lista de números de 1 a 9. Use um laço for para imprimir a lista.\n",
    "# Em seguida, use um laço for para mostrar como cada número é afetado por sua posição na lista. Por exemplo, se o número 1 for o primeiro na lista, exiba a mensagem \"1st\".\n",
    "# Se o número 2 for o segundo na lista, exiba a mensagem \"2nd\". Em seguida, use um laço for para exibir a mensagem apropriada para cada número.\n",
    "\n",
    "lista_num = list(range(1,11))\n",
    "print (lista_num)\n",
    "for num in lista_num:\n",
    "    if num == 1:\n",
    "        print(f'{num}st')\n",
    "    elif num == 2:\n",
    "        print(f'{num}nd')\n",
    "    else:\n",
    "        print(f'{num}th')"
   ]
  }
 ],
 "metadata": {
  "kernelspec": {
   "display_name": "Python 3",
   "language": "python",
   "name": "python3"
  },
  "language_info": {
   "codemirror_mode": {
    "name": "ipython",
    "version": 3
   },
   "file_extension": ".py",
   "mimetype": "text/x-python",
   "name": "python",
   "nbconvert_exporter": "python",
   "pygments_lexer": "ipython3",
   "version": "3.13.1"
  }
 },
 "nbformat": 4,
 "nbformat_minor": 2
}
