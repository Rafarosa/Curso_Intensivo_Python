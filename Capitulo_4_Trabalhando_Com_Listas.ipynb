{
 "cells": [
  {
   "cell_type": "markdown",
   "metadata": {},
   "source": [
    "# Capitulo 4 - Trabalhando com Listas\n",
    "Neste capítulo , aprenderemos como usar os loops para percorrer uma lista inteira somente com algumas linhas de código , indiferentemente do tamanho da lista . Os loops possibilitam que executemos a mesma ação , ou conjunto de ações , com todos os elementos de uma lista . Desse modo , é possível trabalhar efetivamente com listas de qualquer tamanho , inclusive aquelas com milhares ou mesmo milhões de elementos ."
   ]
  },
  {
   "cell_type": "markdown",
   "metadata": {},
   "source": [
    "### Loops: percorrendo uma lista inteira"
   ]
  },
  {
   "cell_type": "markdown",
   "metadata": {},
   "source": [
    "_Loop for_ ajudam a realizar varias ações repetidas em uma lista "
   ]
  },
  {
   "cell_type": "code",
   "execution_count": 1,
   "metadata": {},
   "outputs": [
    {
     "name": "stdout",
     "output_type": "stream",
     "text": [
      "alice\n",
      "david\n",
      "carolina\n"
     ]
    }
   ],
   "source": [
    "magicos = ['alice','david','carolina']\n",
    "for magico in magicos: # PARA cada magico(variável temporaria que receberá cada elemento da lista) EM magicos\n",
    "    print(magico)      # imprima magico (cada vez que o loop entrar na lista a variavel magico receberá um valor)"
   ]
  },
  {
   "cell_type": "markdown",
   "metadata": {},
   "source": [
    "Começamos definindo uma lista , assim como fizemos no Capítulo 3. Em seguida , definimos um loop for . Essa linha solicita ao Python que extraia um nome da lista magicos , associando - o à variável magico . Depois , dizemos ao Python para exibir o nome que acabou de ser atribuído à magician . O Python então repete essas duas últimas linhas , uma vez para cada nome na lista . Talvez ajude mais ler esse código assim : \" Para cada mágico na lista de mágicos , exiba o nome do mágico \" . A saída é uma simples exibição de cada nome na lista ."
   ]
  },
  {
   "cell_type": "markdown",
   "metadata": {},
   "source": [
    "Ao usar loops pela primeira vez , lembre - se de que o conjunto de etapas é repetido uma vez para cada elemento da lista , independentemente de quantos elementos a lista tiver . Caso tenha um milhão de elementos em sua lista , o Python repetirá essas etapas um milhão de vezes extrema rapidez ."
   ]
  },
  {
   "cell_type": "markdown",
   "metadata": {},
   "source": [
    "Para manter o padrão, sempre usar nome de listas no plurar e variaveis do loop for no singular exemplo:\n",
    "\n",
    "***for cat in cats:***\n",
    "\n",
    "***for dog in dogs:***\n",
    "\n",
    "***for item in lista_of_itens:***"
   ]
  },
  {
   "cell_type": "markdown",
   "metadata": {},
   "source": [
    "### Fazendo mais tarefas dentro de um loop for"
   ]
  },
  {
   "cell_type": "markdown",
   "metadata": {},
   "source": [
    "Podemos fazer praticamente qualquer coisa com cada elemento dentro de um loop for. Vamos desenvolver mais o exemplo anterior exibindo uma mensagem para cada mágico, comunicando-lhes que realizaram um belo truque:"
   ]
  },
  {
   "cell_type": "code",
   "execution_count": 2,
   "metadata": {},
   "outputs": [
    {
     "name": "stdout",
     "output_type": "stream",
     "text": [
      "Alice, Esse foi um grande truque!!!\n",
      "David, Esse foi um grande truque!!!\n",
      "Carolina, Esse foi um grande truque!!!\n"
     ]
    }
   ],
   "source": [
    "magicos = ['alice','david','carolina']\n",
    "for magico in magicos:\n",
    "    print(f'{magico.title()}, Esse foi um grande truque!!!')"
   ]
  },
  {
   "cell_type": "markdown",
   "metadata": {},
   "source": [
    "Podemos também escrever quantas linhas de código quisermos no loop for. Cada linha indentada após a linha magicos in magicos está dentro do loop, e cada linha indentada é executada uma vez para cada valor na lista. Ou seja, você pode trabalhar o quanto quiser com cada valor da lista."
   ]
  },
  {
   "cell_type": "code",
   "execution_count": 3,
   "metadata": {},
   "outputs": [
    {
     "name": "stdout",
     "output_type": "stream",
     "text": [
      "Alice, Esse foi um grande truque!\n",
      "Mal posso esperar para ver o próximo truque, Alice.\n",
      "\n",
      "David, Esse foi um grande truque!\n",
      "Mal posso esperar para ver o próximo truque, David.\n",
      "\n",
      "Carolina, Esse foi um grande truque!\n",
      "Mal posso esperar para ver o próximo truque, Carolina.\n",
      "\n"
     ]
    }
   ],
   "source": [
    "magicos = ['alice','david','carolina']\n",
    "for magico in magicos:\n",
    "    print(f'{magico.title()}, Esse foi um grande truque!')\n",
    "    print(f'Mal posso esperar para ver o próximo truque, {magico.title()}.\\n')"
   ]
  },
  {
   "cell_type": "markdown",
   "metadata": {},
   "source": [
    "### Fazendo mais tarefas após usar um loop for"
   ]
  },
  {
   "cell_type": "markdown",
   "metadata": {},
   "source": [
    "Normalmente, queremos sintetizar um bloco de saída ou passarmos para outra tarefa que nosso programa tem que realizar. \n",
    "Quaisquer linhas de código após o loop for não indentadas são executados uma vez sem repetição."
   ]
  },
  {
   "cell_type": "code",
   "execution_count": 4,
   "metadata": {},
   "outputs": [
    {
     "name": "stdout",
     "output_type": "stream",
     "text": [
      "Alice, Esse foi um grande truque!!!\n",
      "Mal posso esperar para ver o próximo truque, Alice.\n",
      "\n",
      "David, Esse foi um grande truque!!!\n",
      "Mal posso esperar para ver o próximo truque, David.\n",
      "\n",
      "Carolina, Esse foi um grande truque!!!\n",
      "Mal posso esperar para ver o próximo truque, Carolina.\n",
      "\n",
      "Obrigado a todos. Foi um grande show de magica!!\n"
     ]
    }
   ],
   "source": [
    "magicos = ['alice','david','carolina']\n",
    "for magico in magicos:\n",
    "    print(f'{magico.title()}, Esse foi um grande truque!!!')\n",
    "    print(f'Mal posso esperar para ver o próximo truque, {magico.title()}.\\n')\n",
    "\n",
    "print(\"Obrigado a todos. Foi um grande show de magica!!\")"
   ]
  },
  {
   "cell_type": "markdown",
   "metadata": {},
   "source": [
    "### Evitando erros de indentação"
   ]
  },
  {
   "cell_type": "markdown",
   "metadata": {},
   "source": [
    "O Python usa indentação para determinar como uma linha, ou grupo de linhas, está relacionada ao resto do programa. Nos exemplos anteriores, as linhas que exibiram mensagens para mágicos individuais eram parte do loop for, porque estavam indentadas. A indentação do Python facilita e muito a leitura do código. Basicamente, a indentação usa espaços em branco para forçá-lo a escrever um código formatado com uma estrutura visual clara."
   ]
  },
  {
   "cell_type": "markdown",
   "metadata": {},
   "source": [
    "### Faça você mesmo"
   ]
  },
  {
   "cell_type": "markdown",
   "metadata": {},
   "source": [
    "**4.1 Pizzas:** Pense em, pelo menos, três tipos que você gosta. Armazene esses nomes de pizza em uma lista e use um loop for para exibir o nome de cada uma. \n",
    "\n",
    "• Modifique seu loop for a fim de que exiba uma frase usando o nome da pizza, em vez de exibir apenas o nome da pizza. Para cada pizza, você deve gerar uma linha de saída com uma simples afirmação como: Gosto de pizza de pepperoni. \n",
    "\n",
    "• Adicione uma linha no final do seu programa, fora do loop for, que ressalte o quanto você gosta de pizza. A saída deve ter três ou mais linhas sobre os tipos de pizza que você gosta e, em seguida, uma frase adicional, como Eu amo pizza!"
   ]
  },
  {
   "cell_type": "code",
   "execution_count": 7,
   "metadata": {},
   "outputs": [
    {
     "name": "stdout",
     "output_type": "stream",
     "text": [
      "Gosto de pizza de Calabresa.\n",
      "Gosto de pizza de Chester C/ Requeijão Premium Mineiro.\n",
      "Gosto de pizza de Lombinho.\n",
      "Gosto de pizza de Marguerita.\n",
      "Gosto de pizza de Quatro Queijos.\n",
      "Gosto de pizza de Bacon.\n",
      "Gosto de pizza de Champignon.\n",
      "Gosto de pizza de Pepperoni.\n",
      "Eu amo pizza!!\n"
     ]
    }
   ],
   "source": [
    "pizzas = ['Calabresa', 'Chester c/ Requeijão Premium Mineiro', 'Lombinho', 'Marguerita', 'Quatro Queijos', 'Bacon', 'Champignon', 'Pepperoni']\n",
    "\n",
    "for pizza in pizzas:\n",
    "    print(f'Gosto de pizza de {pizza.title()}.')\n",
    "print('Eu amo pizza!!')"
   ]
  },
  {
   "cell_type": "markdown",
   "metadata": {},
   "source": [
    "**4.2 Animais:** Pense em, pelo menos, três animais diferentes que compartilhem uma característica comum. Armazene o nome desses animais em uma lista e, em seguida, use um loop for para exibir o nome de cada animal. \n",
    "\n",
    "• Modifique seu programa a fim de exibir uma afirmação sobre cada animal, como Um cachorro seria um ótimo animal de estimação (pet). \n",
    "\n",
    "• Adicione uma linha no final do seu programa, indicando o que esses animais compartilham em comum. Você pode exibir uma frase, como Qualquer um desses animais daria um ótimo animal de estimação!"
   ]
  },
  {
   "cell_type": "code",
   "execution_count": 9,
   "metadata": {},
   "outputs": [
    {
     "name": "stdout",
     "output_type": "stream",
     "text": [
      "Um Hamster seria uma um ótimo animal de estimação\n",
      "Um Porquinho-Da-Índia seria uma um ótimo animal de estimação\n",
      "Um Coelho seria uma um ótimo animal de estimação\n",
      "Um Tartaruga-Tigre-D’Água seria uma um ótimo animal de estimação\n",
      "Um Furão seria uma um ótimo animal de estimação\n",
      "Um Iguana seria uma um ótimo animal de estimação\n",
      "Um Chinchila seria uma um ótimo animal de estimação\n",
      "Esses são animais incomuns para ser um pet!\n"
     ]
    }
   ],
   "source": [
    "pets = ['Hamster','Porquinho-da-índia','Coelho','Tartaruga-tigre-d’água','Furão','Iguana','Chinchila']\n",
    "\n",
    "for pet in pets:\n",
    "    print(f\"Um {pet.title()} seria uma um ótimo animal de estimação\")\n",
    "print('Esses são animais incomuns para ser um pet!')\n",
    "print('Qualquer um desses animais daria um ótimo animal de estimação!')"
   ]
  },
  {
   "cell_type": "markdown",
   "metadata": {},
   "source": [
    "### Criando listas numéricas"
   ]
  },
  {
   "cell_type": "markdown",
   "metadata": {},
   "source": [
    "Com as visualizações de dados, quase sempre trabalharemos com conjuntos de números, como temperaturas, distâncias, tamanhos de população ou valores de latitude e longitude, dentre outros tipos de conjuntos numéricos . As listas são perfeitas para armazenar conjuntos de números , e o Python fornece uma variedade de ferramentas para ajudá - lo a trabalhar efetivamente com listas de números ."
   ]
  },
  {
   "cell_type": "markdown",
   "metadata": {},
   "source": [
    "#### Usando a função range"
   ]
  },
  {
   "cell_type": "markdown",
   "metadata": {},
   "source": [
    "A função range ( ) do Python facilita gerar uma série de números ."
   ]
  },
  {
   "cell_type": "code",
   "execution_count": 10,
   "metadata": {},
   "outputs": [
    {
     "name": "stdout",
     "output_type": "stream",
     "text": [
      "1\n",
      "2\n",
      "3\n",
      "4\n"
     ]
    }
   ],
   "source": [
    "for valor in range(1,5):\n",
    "    print(valor)"
   ]
  },
  {
   "cell_type": "markdown",
   "metadata": {},
   "source": [
    "Neste exemplo , o range ( ) exibe somente os números de 1 a 4. Trata - se de outro resultado do comportamento off - by - one , dentre muitos , que você verá com frequência nas linguagens de programação . Aqui , quando fornecemos dois valores , a função range ( ) faz com que o Python comece a calcular o primeiro valor fornecido , parando no segundo valor fornecido ."
   ]
  },
  {
   "cell_type": "code",
   "execution_count": 11,
   "metadata": {},
   "outputs": [
    {
     "name": "stdout",
     "output_type": "stream",
     "text": [
      "1\n",
      "2\n",
      "3\n",
      "4\n",
      "5\n"
     ]
    }
   ],
   "source": [
    "# para mostrar resultados de 1 a 5, temos que informar o ultimo valor n + 1\n",
    "for valor in range(1,6):\n",
    "    print(valor)"
   ]
  },
  {
   "cell_type": "markdown",
   "metadata": {},
   "source": [
    "#### Usando o range() para criar uma lista de números"
   ]
  },
  {
   "cell_type": "markdown",
   "metadata": {},
   "source": [
    "Caso queira criar uma lista de números , basta converter os resultados do range ( ) diretamente em uma lista com a função list ( ) ."
   ]
  },
  {
   "cell_type": "code",
   "execution_count": 12,
   "metadata": {},
   "outputs": [
    {
     "name": "stdout",
     "output_type": "stream",
     "text": [
      "[1, 2, 3, 4, 5]\n"
     ]
    }
   ],
   "source": [
    "numeros = list(range(1,6))\n",
    "print(numeros)"
   ]
  },
  {
   "cell_type": "markdown",
   "metadata": {},
   "source": [
    "Podemos também usar a função range ( ) para informar ao Python que desconsidere números em um determinado intervalo . Se passarmos um terceiro argumento para o range ( ) , o Python usará esse valor como tamanho de passo , também chamado de step ou intervalo numérico , ao gerar os números ."
   ]
  },
  {
   "cell_type": "code",
   "execution_count": 14,
   "metadata": {},
   "outputs": [
    {
     "name": "stdout",
     "output_type": "stream",
     "text": [
      "[2, 4, 6, 8, 10]\n"
     ]
    }
   ],
   "source": [
    "numeros_pares = list(range(2,11,2))\n",
    "print(numeros_pares)"
   ]
  },
  {
   "cell_type": "code",
   "execution_count": 16,
   "metadata": {},
   "outputs": [
    {
     "name": "stdout",
     "output_type": "stream",
     "text": [
      "[1, 4, 9, 16, 25, 36, 49, 64, 81, 100]\n"
     ]
    }
   ],
   "source": [
    "#como você criaria uma lista com os dez primeiros números quadrados (ou seja, o quadrado de cada número inteiro de 1 a 10).\n",
    "\n",
    "quadrados = []\n",
    "for valor in range(1,11):\n",
    "    quadrado = valor**2\n",
    "    quadrados.append(quadrado)\n",
    "print(quadrados)"
   ]
  },
  {
   "cell_type": "code",
   "execution_count": 18,
   "metadata": {},
   "outputs": [
    {
     "name": "stdout",
     "output_type": "stream",
     "text": [
      "[1, 4, 9, 16, 25, 36, 49, 64, 81, 100]\n"
     ]
    }
   ],
   "source": [
    "# código otimizado\n",
    "quadrados = []\n",
    "for valor in range(1,11):\n",
    "    quadrados.append(valor**2)\n",
    "print(quadrados)"
   ]
  },
  {
   "cell_type": "markdown",
   "metadata": {},
   "source": [
    "#### Estatísticas simples com uma lista de números"
   ]
  },
  {
   "cell_type": "markdown",
   "metadata": {},
   "source": [
    "Algumas funções do Python são vantajosas ao trabalhar com listas de números . Por exemplo , podemos encontrar facilmente o mínimo , máximo , e a soma de uma lista de números :"
   ]
  },
  {
   "cell_type": "code",
   "execution_count": 19,
   "metadata": {},
   "outputs": [
    {
     "name": "stdout",
     "output_type": "stream",
     "text": [
      "0\n",
      "9\n",
      "45\n"
     ]
    }
   ],
   "source": [
    "digitos = [1,2,3,4,5,6,7,8,9,0]\n",
    "print(min(digitos)) # valor mínimo encontrado\n",
    "print(max(digitos)) # valor máximo encontrado\n",
    "print(sum(digitos)) # Valor dos elementos somados"
   ]
  },
  {
   "cell_type": "markdown",
   "metadata": {},
   "source": [
    "#### List comprehensions"
   ]
  },
  {
   "cell_type": "markdown",
   "metadata": {},
   "source": [
    "Uma list comprehension combina o loop for e a criação de elementos novos em uma linha e anexa automaticamente cada elemento novo ."
   ]
  },
  {
   "cell_type": "code",
   "execution_count": 1,
   "metadata": {},
   "outputs": [
    {
     "name": "stdout",
     "output_type": "stream",
     "text": [
      "[1, 4, 9, 16, 25, 36, 49, 64, 81, 100]\n"
     ]
    }
   ],
   "source": [
    "# cria a mesma lista de números quadrados que vimos anteriormente , mas com uma list comprehension\n",
    "#   1            2             3\n",
    "quadrados = [valor**2 for valor in range(1,11)]\n",
    "print(quadrados)\n",
    "# 1 - Nome da sua lista \n",
    "# 2 - Expressão para o valor que quer armazenar\n",
    "# 3 - Loop for com a variavel temporaria definida no item 2"
   ]
  },
  {
   "cell_type": "markdown",
   "metadata": {},
   "source": [
    "### Faça você mesmo"
   ]
  },
  {
   "cell_type": "markdown",
   "metadata": {},
   "source": [
    "**4.3 Contando até vinte :** Use um loop for para exibir os números de 1 a 20 , todos juntos ."
   ]
  },
  {
   "cell_type": "code",
   "execution_count": 3,
   "metadata": {},
   "outputs": [
    {
     "name": "stdout",
     "output_type": "stream",
     "text": [
      "[1, 2, 3, 4, 5, 6, 7, 8, 9, 10, 11, 12, 13, 14, 15, 16, 17, 18, 19, 20]\n"
     ]
    }
   ],
   "source": [
    "numeros_20 = []\n",
    "for num_20 in range(1,21):\n",
    "    numeros_20.append(num_20)\n",
    "print(numeros_20)"
   ]
  },
  {
   "cell_type": "markdown",
   "metadata": {},
   "source": [
    "**4.4 Um milhão :** Crie uma lista com números de um a um milhão e , em seguida , utilize um loop for para exibi - los . ( Se a saída estiver demorando muito , interrompa - a pressionando CTRL + C ou fechando a janela de saída . )"
   ]
  },
  {
   "cell_type": "code",
   "execution_count": 8,
   "metadata": {},
   "outputs": [],
   "source": [
    "numeros_1000000 = []\n",
    "for num_1000000 in range(1,1000001):\n",
    "    numeros_1000000.append(num_1000000)"
   ]
  },
  {
   "cell_type": "code",
   "execution_count": null,
   "metadata": {},
   "outputs": [],
   "source": [
    "print(numeros_1000000)"
   ]
  },
  {
   "cell_type": "markdown",
   "metadata": {},
   "source": [
    "**4.5 Somando um milhão :** crie uma lista com números de um a um milhão e , em seguida , use min ( ) e max ( ) a fim de garantir que sua lista realmente comece em um e termine em um milhão . Além disso , use a função sum ( ) para ver a rapidez com que o Python pode efetuar a soma de um milhão de números ."
   ]
  },
  {
   "cell_type": "code",
   "execution_count": 14,
   "metadata": {},
   "outputs": [
    {
     "name": "stdout",
     "output_type": "stream",
     "text": [
      "1\n",
      "1000000\n",
      "500000500000\n"
     ]
    }
   ],
   "source": [
    "numeros_milhao = []\n",
    "for num_milhao in range(1,1000001):\n",
    "    numeros_milhao.append(num_milhao)\n",
    "print(min(numeros_milhao))\n",
    "print(max(numeros_milhao))\n",
    "print(sum(numeros_milhao))"
   ]
  },
  {
   "cell_type": "markdown",
   "metadata": {},
   "source": [
    "**4.6 Números ímpares :** Use o terceiro argumento da função range ( ) para criar uma lista com números ímpares de 1 a 20. Use o loop for para exibir cada número ."
   ]
  },
  {
   "cell_type": "code",
   "execution_count": 16,
   "metadata": {},
   "outputs": [
    {
     "name": "stdout",
     "output_type": "stream",
     "text": [
      "[1, 3, 5, 7, 9, 11, 13, 15, 17, 19]\n"
     ]
    }
   ],
   "source": [
    "numeros_impares = []\n",
    "for num_impar in range(1,21,2):\n",
    "    numeros_impares.append(num_impar)\n",
    "print(numeros_impares)"
   ]
  },
  {
   "cell_type": "markdown",
   "metadata": {},
   "source": [
    "**4.7 Três :** Crie uma lista dos múltiplos de 3 , de 3 a 30. Use um loop for para exibir os números em sua lista ."
   ]
  },
  {
   "cell_type": "code",
   "execution_count": 17,
   "metadata": {},
   "outputs": [
    {
     "name": "stdout",
     "output_type": "stream",
     "text": [
      "[3, 6, 9, 12, 15, 18, 21, 24, 27, 30]\n"
     ]
    }
   ],
   "source": [
    "numeros_mul3 = []\n",
    "for mult3 in range(3,31,3):\n",
    "    numeros_mul3.append(mult3)\n",
    "print(numeros_mul3)"
   ]
  },
  {
   "cell_type": "markdown",
   "metadata": {},
   "source": [
    "**4.8 Cubos :** Um número elevado à terceira potência é chamado de cubo . Por exemplo , no Python , o cubo de 2 é escrito como 2 ** 3 . Escreva uma lista dos primeiros 10 cubos ( ou seja , o cubo de cada número inteiro de 1 a 10 ) e use um loop for para exibir o valor de cada cubo ."
   ]
  },
  {
   "cell_type": "code",
   "execution_count": 18,
   "metadata": {},
   "outputs": [
    {
     "name": "stdout",
     "output_type": "stream",
     "text": [
      "[1, 8, 27, 64, 125, 216, 343, 512, 729, 1000]\n"
     ]
    }
   ],
   "source": [
    "cubos = []\n",
    "for valor in range(1,11):\n",
    "    cubo = valor**3\n",
    "    cubos.append(cubo)\n",
    "print(cubos)"
   ]
  },
  {
   "cell_type": "markdown",
   "metadata": {},
   "source": [
    "**4.9 Cube Comprehension :** Use uma list comprehension para gerar uma lista dos primeiros 10 cubos ."
   ]
  },
  {
   "cell_type": "code",
   "execution_count": 19,
   "metadata": {},
   "outputs": [
    {
     "name": "stdout",
     "output_type": "stream",
     "text": [
      "[1, 8, 27, 64, 125, 216, 343, 512, 729, 1000]\n"
     ]
    }
   ],
   "source": [
    "cubos = [valor**3 for valor in range(1,11)]\n",
    "print(cubos)"
   ]
  },
  {
   "cell_type": "markdown",
   "metadata": {},
   "source": [
    "### Trabalhando com parte de uma lista"
   ]
  },
  {
   "cell_type": "markdown",
   "metadata": {},
   "source": [
    "#### Fatiando uma lista"
   ]
  },
  {
   "cell_type": "code",
   "execution_count": 21,
   "metadata": {},
   "outputs": [
    {
     "name": "stdout",
     "output_type": "stream",
     "text": [
      "['charles', 'martina', 'michael']\n",
      "['martina', 'michael', 'florence']\n"
     ]
    }
   ],
   "source": [
    "# fatiando a lista para acessar os três primeiros nomes da lista\n",
    "# lista[primeiro indicice, quantidade de itens a retornar]\n",
    "players = ['charles' ,'martina' , 'michael','florence','eli']\n",
    "print(players[0:3])\n",
    "\n",
    "print(players[1:4])"
   ]
  },
  {
   "cell_type": "code",
   "execution_count": 24,
   "metadata": {},
   "outputs": [
    {
     "name": "stdout",
     "output_type": "stream",
     "text": [
      "['charles', 'martina', 'michael', 'florence']\n",
      "['michael', 'florence', 'eli']\n",
      "['michael', 'florence', 'eli']\n"
     ]
    }
   ],
   "source": [
    "players = ['charles' ,'martina' , 'michael','florence','eli']\n",
    "# Se omitir o primeiro valor, será iniciado a contagem do inicio da lista\n",
    "print(players[:4])\n",
    "\n",
    "# Se omitir o segundo valor, será considerado que seja anexado dodos os valores restantes da lista\n",
    "print(players[2:])\n",
    "\n",
    "#podemos retornar os ultimos 3 jogadores da lista\n",
    "print(players[-3:])"
   ]
  },
  {
   "cell_type": "markdown",
   "metadata": {},
   "source": [
    "#### Percorrendo uma fatia com um loop"
   ]
  },
  {
   "cell_type": "markdown",
   "metadata": {},
   "source": [
    "Podemos utilizar uma fatia em um loop for se quisermos percorrer um subconjunto dos elementos em uma lista . No exemplo a seguir , percorremos os três primeiros jogadores e exibimos seus nomes como parte de uma equipe simples :"
   ]
  },
  {
   "cell_type": "code",
   "execution_count": 25,
   "metadata": {},
   "outputs": [
    {
     "name": "stdout",
     "output_type": "stream",
     "text": [
      "Aqui está a lista dos três primeiros jogadores do meu time\n",
      "Charles\n",
      "Martina\n",
      "Michael\n"
     ]
    }
   ],
   "source": [
    "players = ['charles' ,'martina' , 'michael','florence','eli']\n",
    "\n",
    "print(\"Aqui está a lista dos três primeiros jogadores do meu time\")\n",
    "for player in players[:3]:\n",
    "    print(player.title())"
   ]
  },
  {
   "cell_type": "markdown",
   "metadata": {},
   "source": [
    "#### Copiando uma lista"
   ]
  },
  {
   "cell_type": "markdown",
   "metadata": {},
   "source": [
    "Para copiar uma lista , podemos criar uma fatia que inclua toda a lista original , omitindo o primeiro e o segundo índice ( [ : ] ) . Isso informa ao Python para criar uma fatia que comece no primeiro elemento e termine no último elemento , gerando uma cópia de toda a lista ."
   ]
  },
  {
   "cell_type": "code",
   "execution_count": 27,
   "metadata": {},
   "outputs": [
    {
     "name": "stdout",
     "output_type": "stream",
     "text": [
      "Minhas comidas favoritas são:\n",
      "['pizza', 'falafel', 'carrot cake', 'cannoli']\n",
      "\n",
      "As comidas favoritas do meu amigo são:\n",
      "['pizza', 'falafel', 'carrot cake', 'ice cream']\n"
     ]
    }
   ],
   "source": [
    "my_foods = ['pizza','falafel','carrot cake']\n",
    "friend_foods = my_foods[:]\n",
    "\n",
    "# Adicionando comidas diferentes em cada lista\n",
    "my_foods.append('cannoli')\n",
    "friend_foods.append('ice cream')\n",
    "\n",
    "print(\"Minhas comidas favoritas são:\")\n",
    "print(my_foods)\n",
    "\n",
    "print(\"\\nAs comidas favoritas do meu amigo são:\")\n",
    "print(friend_foods)\n",
    "\n",
    "# não funciona \n",
    "# friend_foods = my_foods"
   ]
  },
  {
   "cell_type": "markdown",
   "metadata": {},
   "source": [
    "#### Faça você mesmo"
   ]
  },
  {
   "cell_type": "markdown",
   "metadata": {},
   "source": [
    "**4.10 Fatias :** Use um dos programas que escreveu neste capítulo , adicione diversas linhas ao final do programa para executarem o seguinte : \n",
    "\n",
    "• Exiba a mensagem : Os três primeiros elementos da lista são :Em seguida ,use uma fatia para exibir os três primeiros elementos da lista desse programa . \n",
    "\n",
    "• Exiba a mensagem : O três elementos que ficam no meio da lista são :. Depois , use uma fatia para exibir os três elementos do meio da lista . \n",
    "\n",
    "• Exiba a mensagem : Os três últimos elementos da lista são : Em seguida , utilize uma fatia para exibir os três últimos elementos da lista ."
   ]
  },
  {
   "cell_type": "markdown",
   "metadata": {},
   "source": [
    "**4.11 Minhas pizzas , suas pizzas :** Comece com o programa do Exercício 4.1 ( página 90 ) . Faça uma cópia da lista de pizzas e a nomeie como friend_pizzas . Em seguida , siga as etapas : \n",
    "• Adicione uma pizza nova à lista original . \n",
    "• Adicione uma pizza diferente à lista friend_pizzas . \n",
    "• Prove que tem duas listas separadas . Exiba a mensagem : Minhas pizzas favoritas são :. E , em seguida , use um loop for para exibir a primeira lista . Exiba a mensagem : Minhas pizzas favoritas são :. E , em seguida , use um loop for para exibir a segunda lista . Garanta que cada pizza nova seja armazenada na lista adequada ."
   ]
  },
  {
   "cell_type": "markdown",
   "metadata": {},
   "source": [
    "**4.12 Mais loops :** Nesta seção , todas as versões de food.py evitaram o uso de loops for para exibição , a fim de economizar espaço . Escolha uma versão de food.py e escreva dois loops for para exibir cada lista de alimentos ."
   ]
  }
 ],
 "metadata": {
  "kernelspec": {
   "display_name": "Python 3",
   "language": "python",
   "name": "python3"
  },
  "language_info": {
   "codemirror_mode": {
    "name": "ipython",
    "version": 3
   },
   "file_extension": ".py",
   "mimetype": "text/x-python",
   "name": "python",
   "nbconvert_exporter": "python",
   "pygments_lexer": "ipython3",
   "version": "3.12.4"
  }
 },
 "nbformat": 4,
 "nbformat_minor": 2
}
