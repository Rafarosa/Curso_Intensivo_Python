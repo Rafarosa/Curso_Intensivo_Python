{
 "cells": [
  {
   "cell_type": "markdown",
   "metadata": {},
   "source": [
    "# Capitulo 4 - Trabalhando com Listas\n",
    "Neste capítulo , aprenderemos como usar os loops para percorrer uma lista inteira somente com algumas linhas de código , indiferentemente do tamanho da lista . Os loops possibilitam que executemos a mesma ação , ou conjunto de ações , com todos os elementos de uma lista . Desse modo , é possível trabalhar efetivamente com listas de qualquer tamanho , inclusive aquelas com milhares ou mesmo milhões de elementos ."
   ]
  },
  {
   "cell_type": "markdown",
   "metadata": {},
   "source": [
    "### Loops: percorrendo uma lista inteira"
   ]
  },
  {
   "cell_type": "markdown",
   "metadata": {},
   "source": [
    "_Loop for_ ajudam a realizar varias ações repetidas em uma lista "
   ]
  },
  {
   "cell_type": "code",
   "execution_count": 1,
   "metadata": {},
   "outputs": [
    {
     "name": "stdout",
     "output_type": "stream",
     "text": [
      "alice\n",
      "david\n",
      "carolina\n"
     ]
    }
   ],
   "source": [
    "magicos = ['alice','david','carolina']\n",
    "for magico in magicos: # PARA cada magico(variável temporaria que receberá cada elemento da lista) EM magicos\n",
    "    print(magico)      # imprima magico (cada vez que o loop entrar na lista a variavel magico receberá um valor)"
   ]
  },
  {
   "cell_type": "markdown",
   "metadata": {},
   "source": [
    "Começamos definindo uma lista , assim como fizemos no Capítulo 3. Em seguida , definimos um loop for . Essa linha solicita ao Python que extraia um nome da lista magicos , associando - o à variável magico . Depois , dizemos ao Python para exibir o nome que acabou de ser atribuído à magician . O Python então repete essas duas últimas linhas , uma vez para cada nome na lista . Talvez ajude mais ler esse código assim : \" Para cada mágico na lista de mágicos , exiba o nome do mágico \" . A saída é uma simples exibição de cada nome na lista ."
   ]
  },
  {
   "cell_type": "markdown",
   "metadata": {},
   "source": [
    "Ao usar loops pela primeira vez , lembre - se de que o conjunto de etapas é repetido uma vez para cada elemento da lista , independentemente de quantos elementos a lista tiver . Caso tenha um milhão de elementos em sua lista , o Python repetirá essas etapas um milhão de vezes extrema rapidez ."
   ]
  },
  {
   "cell_type": "markdown",
   "metadata": {},
   "source": [
    "Para manter o padrão, sempre usar nome de listas no plurar e variaveis do loop for no singular exemplo:\n",
    "\n",
    "***for cat in cats:***\n",
    "\n",
    "***for dog in dogs:***\n",
    "\n",
    "***for item in lista_of_itens:***"
   ]
  },
  {
   "cell_type": "markdown",
   "metadata": {},
   "source": [
    "### Fazendo mais tarefas dentro de um loop for"
   ]
  },
  {
   "cell_type": "markdown",
   "metadata": {},
   "source": [
    "Podemos fazer praticamente qualquer coisa com cada elemento dentro de um loop for. Vamos desenvolver mais o exemplo anterior exibindo uma mensagem para cada mágico, comunicando-lhes que realizaram um belo truque:"
   ]
  },
  {
   "cell_type": "code",
   "execution_count": 2,
   "metadata": {},
   "outputs": [
    {
     "name": "stdout",
     "output_type": "stream",
     "text": [
      "Alice, Esse foi um grande truque!!!\n",
      "David, Esse foi um grande truque!!!\n",
      "Carolina, Esse foi um grande truque!!!\n"
     ]
    }
   ],
   "source": [
    "magicos = ['alice','david','carolina']\n",
    "for magico in magicos:\n",
    "    print(f'{magico.title()}, Esse foi um grande truque!!!')"
   ]
  },
  {
   "cell_type": "markdown",
   "metadata": {},
   "source": [
    "Podemos também escrever quantas linhas de código quisermos no loop for. Cada linha indentada após a linha magicos in magicos está dentro do loop, e cada linha indentada é executada uma vez para cada valor na lista. Ou seja, você pode trabalhar o quanto quiser com cada valor da lista."
   ]
  },
  {
   "cell_type": "code",
   "execution_count": 3,
   "metadata": {},
   "outputs": [
    {
     "name": "stdout",
     "output_type": "stream",
     "text": [
      "Alice, Esse foi um grande truque!\n",
      "Mal posso esperar para ver o próximo truque, Alice.\n",
      "\n",
      "David, Esse foi um grande truque!\n",
      "Mal posso esperar para ver o próximo truque, David.\n",
      "\n",
      "Carolina, Esse foi um grande truque!\n",
      "Mal posso esperar para ver o próximo truque, Carolina.\n",
      "\n"
     ]
    }
   ],
   "source": [
    "magicos = ['alice','david','carolina']\n",
    "for magico in magicos:\n",
    "    print(f'{magico.title()}, Esse foi um grande truque!')\n",
    "    print(f'Mal posso esperar para ver o próximo truque, {magico.title()}.\\n')"
   ]
  },
  {
   "cell_type": "markdown",
   "metadata": {},
   "source": [
    "### Fazendo mais tarefas após usar um loop for"
   ]
  },
  {
   "cell_type": "markdown",
   "metadata": {},
   "source": [
    "Normalmente, queremos sintetizar um bloco de saída ou passarmos para outra tarefa que nosso programa tem que realizar. \n",
    "Quaisquer linhas de código após o loop for não indentadas são executados uma vez sem repetição."
   ]
  },
  {
   "cell_type": "code",
   "execution_count": 4,
   "metadata": {},
   "outputs": [
    {
     "name": "stdout",
     "output_type": "stream",
     "text": [
      "Alice, Esse foi um grande truque!!!\n",
      "Mal posso esperar para ver o próximo truque, Alice.\n",
      "\n",
      "David, Esse foi um grande truque!!!\n",
      "Mal posso esperar para ver o próximo truque, David.\n",
      "\n",
      "Carolina, Esse foi um grande truque!!!\n",
      "Mal posso esperar para ver o próximo truque, Carolina.\n",
      "\n",
      "Obrigado a todos. Foi um grande show de magica!!\n"
     ]
    }
   ],
   "source": [
    "magicos = ['alice','david','carolina']\n",
    "for magico in magicos:\n",
    "    print(f'{magico.title()}, Esse foi um grande truque!!!')\n",
    "    print(f'Mal posso esperar para ver o próximo truque, {magico.title()}.\\n')\n",
    "\n",
    "print(\"Obrigado a todos. Foi um grande show de magica!!\")"
   ]
  },
  {
   "cell_type": "markdown",
   "metadata": {},
   "source": [
    "### Evitando erros de indentação"
   ]
  },
  {
   "cell_type": "markdown",
   "metadata": {},
   "source": [
    "O Python usa indentação para determinar como uma linha, ou grupo de linhas, está relacionada ao resto do programa. Nos exemplos anteriores, as linhas que exibiram mensagens para mágicos individuais eram parte do loop for, porque estavam indentadas. A indentação do Python facilita e muito a leitura do código. Basicamente, a indentação usa espaços em branco para forçá-lo a escrever um código formatado com uma estrutura visual clara."
   ]
  },
  {
   "cell_type": "markdown",
   "metadata": {},
   "source": [
    "### Faça você mesmo"
   ]
  },
  {
   "cell_type": "markdown",
   "metadata": {},
   "source": [
    "**4.1 Pizzas:** Pense em, pelo menos, três tipos que você gosta. Armazene esses nomes de pizza em uma lista e use um loop for para exibir o nome de cada uma. \n",
    "\n",
    "• Modifique seu loop for a fim de que exiba uma frase usando o nome da pizza, em vez de exibir apenas o nome da pizza. Para cada pizza, você deve gerar uma linha de saída com uma simples afirmação como: Gosto de pizza de pepperoni. \n",
    "\n",
    "• Adicione uma linha no final do seu programa, fora do loop for, que ressalte o quanto você gosta de pizza. A saída deve ter três ou mais linhas sobre os tipos de pizza que você gosta e, em seguida, uma frase adicional, como Eu amo pizza!"
   ]
  },
  {
   "cell_type": "code",
   "execution_count": 7,
   "metadata": {},
   "outputs": [
    {
     "name": "stdout",
     "output_type": "stream",
     "text": [
      "Gosto de pizza de Calabresa.\n",
      "Gosto de pizza de Chester C/ Requeijão Premium Mineiro.\n",
      "Gosto de pizza de Lombinho.\n",
      "Gosto de pizza de Marguerita.\n",
      "Gosto de pizza de Quatro Queijos.\n",
      "Gosto de pizza de Bacon.\n",
      "Gosto de pizza de Champignon.\n",
      "Gosto de pizza de Pepperoni.\n",
      "Eu amo pizza!!\n"
     ]
    }
   ],
   "source": [
    "pizzas = ['Calabresa', 'Chester c/ Requeijão Premium Mineiro', 'Lombinho', 'Marguerita', 'Quatro Queijos', 'Bacon', 'Champignon', 'Pepperoni']\n",
    "\n",
    "for pizza in pizzas:\n",
    "    print(f'Gosto de pizza de {pizza.title()}.')\n",
    "print('Eu amo pizza!!')"
   ]
  },
  {
   "cell_type": "markdown",
   "metadata": {},
   "source": [
    "**4.2 Animais:** Pense em, pelo menos, três animais diferentes que compartilhem uma característica comum. Armazene o nome desses animais em uma lista e, em seguida, use um loop for para exibir o nome de cada animal. \n",
    "\n",
    "• Modifique seu programa a fim de exibir uma afirmação sobre cada animal, como Um cachorro seria um ótimo animal de estimação (pet). \n",
    "\n",
    "• Adicione uma linha no final do seu programa, indicando o que esses animais compartilham em comum. Você pode exibir uma frase, como Qualquer um desses animais daria um ótimo animal de estimação!"
   ]
  },
  {
   "cell_type": "code",
   "execution_count": 9,
   "metadata": {},
   "outputs": [
    {
     "name": "stdout",
     "output_type": "stream",
     "text": [
      "Um Hamster seria uma um ótimo animal de estimação\n",
      "Um Porquinho-Da-Índia seria uma um ótimo animal de estimação\n",
      "Um Coelho seria uma um ótimo animal de estimação\n",
      "Um Tartaruga-Tigre-D’Água seria uma um ótimo animal de estimação\n",
      "Um Furão seria uma um ótimo animal de estimação\n",
      "Um Iguana seria uma um ótimo animal de estimação\n",
      "Um Chinchila seria uma um ótimo animal de estimação\n",
      "Esses são animais incomuns para ser um pet!\n"
     ]
    }
   ],
   "source": [
    "pets = ['Hamster','Porquinho-da-índia','Coelho','Tartaruga-tigre-d’água','Furão','Iguana','Chinchila']\n",
    "\n",
    "for pet in pets:\n",
    "    print(f\"Um {pet.title()} seria uma um ótimo animal de estimação\")\n",
    "print('Esses são animais incomuns para ser um pet!')\n",
    "print('Qualquer um desses animais daria um ótimo animal de estimação!')"
   ]
  }
 ],
 "metadata": {
  "kernelspec": {
   "display_name": "Python 3",
   "language": "python",
   "name": "python3"
  },
  "language_info": {
   "codemirror_mode": {
    "name": "ipython",
    "version": 3
   },
   "file_extension": ".py",
   "mimetype": "text/x-python",
   "name": "python",
   "nbconvert_exporter": "python",
   "pygments_lexer": "ipython3",
   "version": "3.12.4"
  }
 },
 "nbformat": 4,
 "nbformat_minor": 2
}
